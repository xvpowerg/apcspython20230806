{
 "cells": [
  {
   "cell_type": "code",
   "execution_count": 1,
   "id": "f1bcda6f",
   "metadata": {},
   "outputs": [
    {
     "name": "stdout",
     "output_type": "stream",
     "text": [
      "False\n",
      "True\n",
      "False\n",
      "False\n",
      "True\n",
      "True\n"
     ]
    }
   ],
   "source": [
    "a = 3\n",
    "b = 5\n",
    "print(a == b)\n",
    "print(a != b)\n",
    "print(a > b)\n",
    "print(a >= b)\n",
    "print(a < b)\n",
    "print(a <= b)\n"
   ]
  },
  {
   "cell_type": "code",
   "execution_count": 2,
   "id": "7095d86b",
   "metadata": {},
   "outputs": [
    {
     "name": "stdout",
     "output_type": "stream",
     "text": [
      "False\n",
      "True\n",
      "True\n",
      "True\n",
      "False\n",
      "False\n"
     ]
    }
   ],
   "source": [
    "a = True\n",
    "b = False\n",
    "\n",
    "print(a == b)\n",
    "print(a != b)\n",
    "print(a > b)\n",
    "print(a >= b)\n",
    "print(a < b)\n",
    "print(a <= b)"
   ]
  },
  {
   "cell_type": "code",
   "execution_count": 3,
   "id": "8ffa6871",
   "metadata": {},
   "outputs": [
    {
     "name": "stdout",
     "output_type": "stream",
     "text": [
      "False\n",
      "True\n",
      "True\n",
      "True\n",
      "False\n",
      "False\n"
     ]
    }
   ],
   "source": [
    "a = True\n",
    "b = 0\n",
    "\n",
    "print(a == b)\n",
    "print(a != b)\n",
    "print(a > b)\n",
    "print(a >= b)\n",
    "print(a < b)\n",
    "print(a <= b)"
   ]
  },
  {
   "cell_type": "code",
   "execution_count": 4,
   "id": "7ae36a31",
   "metadata": {},
   "outputs": [
    {
     "name": "stdout",
     "output_type": "stream",
     "text": [
      "False\n",
      "True\n",
      "False\n",
      "False\n",
      "True\n",
      "True\n"
     ]
    }
   ],
   "source": [
    "a = \"Hello\"\n",
    "b = \"World\"\n",
    "# 字典序\n",
    "# 小寫 > 大寫 > 數字\n",
    "print(a == b)\n",
    "print(a != b)\n",
    "print(a > b)\n",
    "print(a >= b)\n",
    "print(a < b)\n",
    "print(a <= b)"
   ]
  },
  {
   "cell_type": "code",
   "execution_count": 5,
   "id": "1cbfae6a",
   "metadata": {},
   "outputs": [
    {
     "name": "stdout",
     "output_type": "stream",
     "text": [
      "True\n",
      "False\n",
      "False\n",
      "True\n"
     ]
    }
   ],
   "source": [
    "a = \"Hello\"\n",
    "print(\"H\" in a)\n",
    "print(\"h\" in  a)\n",
    "print(\"H\" not in a)\n",
    "print(\"h\" not in a)"
   ]
  },
  {
   "cell_type": "code",
   "execution_count": 6,
   "id": "a2ad279b",
   "metadata": {},
   "outputs": [
    {
     "name": "stdout",
     "output_type": "stream",
     "text": [
      "False\n",
      "True\n",
      "True\n",
      "2662620417840\n",
      "2662620149552\n",
      "2662620417840\n"
     ]
    }
   ],
   "source": [
    "a = \"Hello\"\n",
    "b = \"World\"\n",
    "c = a\n",
    "print(a is b)\n",
    "print(a is c)\n",
    "print(a is not b)\n",
    "print(id(a))\n",
    "print(id(b))\n",
    "print(id(c))"
   ]
  },
  {
   "cell_type": "code",
   "execution_count": 7,
   "id": "f33c71a3",
   "metadata": {},
   "outputs": [
    {
     "name": "stdout",
     "output_type": "stream",
     "text": [
      "False\n",
      "False\n",
      "True\n",
      "False\n",
      "===================\n",
      "False\n",
      "True\n",
      "False\n",
      "True\n"
     ]
    }
   ],
   "source": [
    "h1,h2,h3,h4 = 175,178,183,190\n",
    "\n",
    "print(h1 >= 180 and h1 <= 185)\n",
    "#print(180 <= h1 <= 185)\n",
    "print(h2 >= 180 and h2 <= 185)\n",
    "print(h3 >= 180 and h3 <= 185)\n",
    "print(h4 >= 180 and h4 <= 185)\n",
    "print(\"===================\")\n",
    "w1,w2,w3,w4 = 95,85,75,65\n",
    "print(70 < w1 < 90)\n",
    "print(90 > w2 > 70)\n",
    "print(70 < w3 > 90)\n",
    "print(70 > w4 < 90)"
   ]
  },
  {
   "cell_type": "code",
   "execution_count": 8,
   "id": "10a00249",
   "metadata": {},
   "outputs": [
    {
     "name": "stdout",
     "output_type": "stream",
     "text": [
      "True\n",
      "True\n",
      "True\n",
      "False\n"
     ]
    }
   ],
   "source": [
    "ch1,ch2,ch3,ch4 = 75,60,55,40\n",
    "en1,en2,en3,en4 = 60,58,70,50\n",
    "\n",
    "print(ch1 >= 60 or en1 >= 60)\n",
    "print(ch2 >= 60 or en2 >= 60)\n",
    "print(ch3 >= 60 or en3 >= 60)\n",
    "print(ch4 >= 60 or en4 >= 60)\n",
    "\n"
   ]
  },
  {
   "cell_type": "code",
   "execution_count": 9,
   "id": "b478eb1f",
   "metadata": {},
   "outputs": [
    {
     "name": "stdout",
     "output_type": "stream",
     "text": [
      "False\n",
      "False\n",
      "True\n",
      "False\n",
      "True\n",
      "True\n",
      "False\n"
     ]
    }
   ],
   "source": [
    "h1,h2,h3,h4 = 175,178,183,190\n",
    "w1,w2,w3,w4 = 95,85,75,65\n",
    "print(not h2 < 180)\n",
    "print(h2 < 180 == False)\n",
    "\n",
    "print(not h3 < 180)\n",
    "\n",
    "print(not h4 > 180 and not w4 < 80)\n",
    "print(not (h1 > 180 and w1 < 80))\n",
    "\n",
    "print(not h2 > 180 or not w2 < 80 )\n",
    "print(not (h3 > 180 or w3 < 80))"
   ]
  },
  {
   "cell_type": "code",
   "execution_count": 10,
   "id": "26de4cf1",
   "metadata": {},
   "outputs": [
    {
     "name": "stdout",
     "output_type": "stream",
     "text": [
      "True\n",
      "False\n",
      "False\n",
      "True\n",
      "======================\n",
      "False\n",
      "True\n",
      "True\n",
      "False\n"
     ]
    }
   ],
   "source": [
    "b1,b2,b3,b4 = 100,90,100,90\n",
    "g1,g2,g3,g4 = 100,100,90,90\n",
    "print((b1 == 100) == (g1 == 100))\n",
    "print((b2 == 100) == (g2 == 100))\n",
    "print((b3 == 100) == (g3 == 100))\n",
    "print((b4 == 100) == (g4 == 100))\n",
    "print(\"======================\")\n",
    "#xor互斥\n",
    "print(not((b1 == 100) == (g1 == 100) ))\n",
    "print(not ((b2 == 100) == (g2 == 100)))\n",
    "print(not((b3 == 100) == (g3 == 100)))\n",
    "print(not((b4 == 100) == (g4 == 100)))\n"
   ]
  },
  {
   "cell_type": "code",
   "execution_count": 11,
   "id": "61f7ca40",
   "metadata": {},
   "outputs": [
    {
     "name": "stdout",
     "output_type": "stream",
     "text": [
      "考試及格\n",
      "完成\n"
     ]
    }
   ],
   "source": [
    "score = 75\n",
    "if score >= 65:\n",
    " print(\"考試及格\")\n",
    "  \n",
    "print(\"完成\")"
   ]
  },
  {
   "cell_type": "code",
   "execution_count": 12,
   "id": "646a22ff",
   "metadata": {},
   "outputs": [
    {
     "name": "stdout",
     "output_type": "stream",
     "text": [
      "及格\n",
      "完成\n"
     ]
    }
   ],
   "source": [
    "score = 72\n",
    "if score >= 60:\n",
    "    print(\"及格\")\n",
    "else:\n",
    "    print(\"不及格\")\n",
    "print(\"完成\")    "
   ]
  },
  {
   "cell_type": "code",
   "execution_count": 14,
   "id": "4abfefa6",
   "metadata": {},
   "outputs": [
    {
     "name": "stdout",
     "output_type": "stream",
     "text": [
      "考試及格\n"
     ]
    }
   ],
   "source": [
    "score = 70\n",
    "\n",
    "if score >= 60:\n",
    "    print(\"考試及格\")\n",
    "elif score >= 40:\n",
    "    print(\"需要補考\")\n",
    "elif score >= 20:\n",
    "    print(\"罰寫100遍再補考\")    \n",
    "else:\n",
    "    print(\"重修\")"
   ]
  },
  {
   "cell_type": "code",
   "execution_count": 15,
   "id": "63657b41",
   "metadata": {},
   "outputs": [
    {
     "name": "stdout",
     "output_type": "stream",
     "text": [
      "考試及格\n",
      "上台領獎\n",
      "分數: 95\n"
     ]
    }
   ],
   "source": [
    "score = 95\n",
    "\n",
    "if score >= 60:\n",
    "    print(\"考試及格\")\n",
    "    if score >= 90:\n",
    "        print(\"上台領獎\")\n",
    "else:\n",
    "   print(\"不及格\")\n",
    "   if score >= 40:\n",
    "       print(\"需要補考\")\n",
    "   else:\n",
    "       print(\"明年重修\")\n",
    "print(\"分數:\",score)\n"
   ]
  },
  {
   "cell_type": "code",
   "execution_count": 16,
   "id": "54503759",
   "metadata": {},
   "outputs": [
    {
     "name": "stdout",
     "output_type": "stream",
     "text": [
      "輸入成績75\n",
      "不用補考\n",
      "不用補考\n"
     ]
    }
   ],
   "source": [
    "score =int(input(\"輸入成績\"))\n",
    "if score < 60 and score >= 40:\n",
    "    print(\"補考\")\n",
    "else:\n",
    "    print(\"不用補考\")\n",
    "\n",
    "if  40 <= score < 60:\n",
    "    print(\"補考\")\n",
    "else:\n",
    "    print(\"不用補考\")"
   ]
  },
  {
   "cell_type": "code",
   "execution_count": 17,
   "id": "6e0182c1",
   "metadata": {},
   "outputs": [
    {
     "name": "stdout",
     "output_type": "stream",
     "text": [
      "成績55\n",
      "不及格\n",
      "不及格\n"
     ]
    }
   ],
   "source": [
    "#輸入成績\n",
    "score = int(input(\"成績\"))\n",
    "#如果>= 60 及格\n",
    "#否則 不及格\n",
    "msg = \"\"\n",
    "if score >= 60:\n",
    "    msg = \"及格\"\n",
    "else:\n",
    "    msg = \"不及格\"\n",
    "print(msg)    \n",
    "\n",
    "msg2 = \"及格\" if score >= 60 else \"不及格\"\n",
    "print(msg2)\n"
   ]
  },
  {
   "cell_type": "code",
   "execution_count": 19,
   "id": "11339c08",
   "metadata": {},
   "outputs": [
    {
     "name": "stdout",
     "output_type": "stream",
     "text": [
      "10\n"
     ]
    }
   ],
   "source": [
    "n = -2\n",
    "result = 8 + (n*-1 if n < 0 else n)\n",
    "print(result)"
   ]
  },
  {
   "cell_type": "code",
   "execution_count": 20,
   "id": "47b45432",
   "metadata": {},
   "outputs": [
    {
     "name": "stdout",
     "output_type": "stream",
     "text": [
      "輸入整數56\n",
      "2的倍數\n"
     ]
    }
   ],
   "source": [
    "num = int(input(\"輸入整數\"))\n",
    "if num % 2 ==0 and num % 3 ==0:\n",
    "    print(\"2與3的倍數\")\n",
    "elif num % 2 == 0:\n",
    "    print(\"2的倍數\")\n",
    "elif num % 3 == 0:\n",
    "    print(\"3的倍數\")\n",
    "else:\n",
    "    print(\"不是2與3的倍數\")\n"
   ]
  },
  {
   "cell_type": "code",
   "execution_count": 21,
   "id": "7516872a",
   "metadata": {},
   "outputs": [
    {
     "name": "stdout",
     "output_type": "stream",
     "text": [
      "輸入整數9\n",
      "是3的倍數\n"
     ]
    }
   ],
   "source": [
    "num = int(input(\"輸入整數\"))\n",
    "if num % 2 == 0:\n",
    "    print(\"是2的倍數\",end = \"\")\n",
    "    if num%3 == 0:\n",
    "       print(\"是3的倍數\") \n",
    "else:\n",
    "   if num % 3 == 0:\n",
    "       print(\"是3的倍數\")\n",
    "   else:\n",
    "       print(\"不是3與2的倍數\")\n"
   ]
  },
  {
   "cell_type": "code",
   "execution_count": 22,
   "id": "61ecffc7",
   "metadata": {},
   "outputs": [
    {
     "name": "stdout",
     "output_type": "stream",
     "text": [
      "請輸入身高，單位為公分: 180\n",
      "請輸入體重，單位為公斤: 70\n",
      "bmi: 21.60, 判定結果:正常\n"
     ]
    }
   ],
   "source": [
    "height = float(input('請輸入身高，單位為公分: '))\n",
    "\n",
    "weight = int(input('請輸入體重，單位為公斤: '))\n",
    "\n",
    "bmi = weight/((height/100)**2)\n",
    "\n",
    "print(f\"bmi: {bmi:.2f}, 判定結果:\" , end='')\n",
    "\n",
    "if bmi > 30:\n",
    "    print(\"胖胖\")\n",
    "elif bmi > 25:\n",
    "    print(\"過重\")\n",
    "elif bmi > 18.5:\n",
    "    print(\"正常\")\n",
    "elif bmi  > 0:\n",
    "   print(\"太輕\") \n",
    "else:\n",
    "   print(\"錯誤\")"
   ]
  },
  {
   "cell_type": "code",
   "execution_count": 23,
   "id": "dca91c08",
   "metadata": {},
   "outputs": [
    {
     "name": "stdout",
     "output_type": "stream",
     "text": [
      "range(0, 10)\n",
      "[0, 1, 2, 3, 4, 5, 6, 7, 8, 9]\n"
     ]
    }
   ],
   "source": [
    "a = range(10)\n",
    "print(a)\n",
    "print(list(a))"
   ]
  },
  {
   "cell_type": "code",
   "execution_count": 24,
   "id": "f9ddef78",
   "metadata": {},
   "outputs": [
    {
     "name": "stdout",
     "output_type": "stream",
     "text": [
      "range(2, 6)\n",
      "[2, 3, 4, 5]\n"
     ]
    }
   ],
   "source": [
    "a = range(2,6)\n",
    "print(a)\n",
    "print(list(a))\n"
   ]
  },
  {
   "cell_type": "code",
   "execution_count": 25,
   "id": "00600ce1",
   "metadata": {},
   "outputs": [
    {
     "name": "stdout",
     "output_type": "stream",
     "text": [
      "[0, 2, 4]\n",
      "[6, 4, 2]\n"
     ]
    }
   ],
   "source": [
    "a = range(0,6,2)\n",
    "print(list(a))\n",
    "\n",
    "b = range(6,0,-2)\n",
    "print(list(b))"
   ]
  },
  {
   "cell_type": "code",
   "execution_count": 26,
   "id": "72d8c902",
   "metadata": {},
   "outputs": [
    {
     "name": "stdout",
     "output_type": "stream",
     "text": [
      "0\n",
      "1\n",
      "2\n",
      "3\n",
      "4\n",
      "4\n"
     ]
    }
   ],
   "source": [
    "for i in range(5):\n",
    "    print(i)\n",
    "print(i)"
   ]
  },
  {
   "cell_type": "code",
   "execution_count": 27,
   "id": "25bc8ac3",
   "metadata": {},
   "outputs": [
    {
     "name": "stdout",
     "output_type": "stream",
     "text": [
      "5 6 7 8 9 \n",
      "i: 10\n",
      "i: 8\n",
      "i: 6\n",
      "i: 4\n",
      "i: 2\n"
     ]
    }
   ],
   "source": [
    "for i in range(5,10):\n",
    "    print(i,end=\" \")\n",
    "print(\"\")\n",
    "for i in range(10,0,-2):\n",
    "    print(\"i:\",i)\n",
    "    "
   ]
  },
  {
   "cell_type": "code",
   "execution_count": 28,
   "id": "c3b32481",
   "metadata": {},
   "outputs": [
    {
     "name": "stdout",
     "output_type": "stream",
     "text": [
      "H\n",
      "e\n",
      "l\n",
      "l\n",
      "o\n",
      "============\n",
      "Apple\n",
      "Banana\n",
      "Cherry\n",
      "3 5\n",
      "1 2\n",
      "2 3\n",
      "3 4\n"
     ]
    }
   ],
   "source": [
    "word = \"Hello\"\n",
    "for c in word:\n",
    "    print(c)\n",
    "print(\"============\")\n",
    "fruits = [\"Apple\",\"Banana\",\"Cherry\"]\n",
    "for fruit in fruits:\n",
    "    print(fruit)\n",
    "x1,x2 = (3,5)\n",
    "print(x1,x2)\n",
    "listOfTuple = [(1,2),(2,3),(3,4)]\n",
    "\n",
    "for x1,x2 in listOfTuple:\n",
    "    print(x1,x2)\n",
    "    \n"
   ]
  },
  {
   "cell_type": "code",
   "execution_count": 29,
   "id": "5e36b564",
   "metadata": {},
   "outputs": [
    {
     "name": "stdout",
     "output_type": "stream",
     "text": [
      "國文:100\n",
      "數學:80\n",
      "英文:95\n",
      "[('國文', 100), ('數學', 80), ('英文', 95)]\n",
      "國文:100\n",
      "數學:80\n",
      "英文:95\n"
     ]
    }
   ],
   "source": [
    "subjs = [\"國文\",\"數學\",\"英文\"]\n",
    "scores = [100,80,95]\n",
    "\n",
    "#利用for幫輸出\n",
    "\"\"\"\n",
    "國文:100 \n",
    "數學:80\n",
    "英文:95\n",
    "\"\"\"\n",
    "for i in range(len(subjs)):\n",
    "    print(f\"{subjs[i]}:{scores[i]}\")\n",
    "\n",
    "zValue = zip(subjs,scores)\n",
    "print(list(zValue))\n",
    "\n",
    "for v1,v2 in zip(subjs,scores):\n",
    "    print(f\"{v1}:{v2}\")\n"
   ]
  },
  {
   "cell_type": "code",
   "execution_count": 30,
   "id": "09ebbd29",
   "metadata": {},
   "outputs": [
    {
     "name": "stdout",
     "output_type": "stream",
     "text": [
      "輸入字串ABBA\n",
      "是迴文\n"
     ]
    }
   ],
   "source": [
    "inStr = input(\"輸入字串\")\n",
    "reStr = inStr[::-1]\n",
    "if (inStr == reStr):\n",
    "    print(\"是迴文\")\n",
    "else:\n",
    "    print(\"不是迴文\")"
   ]
  },
  {
   "attachments": {},
   "cell_type": "markdown",
   "id": "6e14fa03",
   "metadata": {},
   "source": [
    "## 作業\n",
    "\n",
    "輸出所有出現的品牌不可重複\n",
    "\n",
    "統計下列品牌出現的次數 Audi / Benz / BMW"
   ]
  },
  {
   "cell_type": "code",
   "execution_count": null,
   "id": "ec70e7eb",
   "metadata": {},
   "outputs": [],
   "source": [
    "carList = ['Audi', 'Toyota', 'Benz', 'BMW', 'Mazda', 'Ford', 'BMW', 'Benz', 'BMW', 'Mazda']\n"
   ]
  },
  {
   "cell_type": "markdown",
   "id": "d541ed19",
   "metadata": {},
   "source": [
    "## 練習：尾牙摸彩"
   ]
  },
  {
   "cell_type": "code",
   "execution_count": null,
   "id": "6e258675",
   "metadata": {},
   "outputs": [],
   "source": [
    "prizes = ['汽車一輛','獎金十萬','家庭劇院一組',\n",
    "          '筆記型電腦一台','iPhone 手機一支',\n",
    "          'Switch遊樂器一台',\n",
    "          '飯店住宿券一張','飯店住宿券一張',\n",
    "          '下午茶券兩張','下午茶券兩張']\n",
    "no =  int(input(\"號碼\"))\n",
    "if (no < len(prizes)):\n",
    "    print(prizes[no])\n",
    "else:\n",
    "    print(\"沒抽中!\")\n"
   ]
  }
 ],
 "metadata": {
  "kernelspec": {
   "display_name": "Python 3 (ipykernel)",
   "language": "python",
   "name": "python3"
  },
  "language_info": {
   "codemirror_mode": {
    "name": "ipython",
    "version": 3
   },
   "file_extension": ".py",
   "mimetype": "text/x-python",
   "name": "python",
   "nbconvert_exporter": "python",
   "pygments_lexer": "ipython3",
   "version": "3.8.16"
  }
 },
 "nbformat": 4,
 "nbformat_minor": 5
}
