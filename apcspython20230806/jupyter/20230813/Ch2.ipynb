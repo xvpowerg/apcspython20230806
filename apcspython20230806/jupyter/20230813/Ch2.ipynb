{
 "cells": [
  {
   "cell_type": "markdown",
   "id": "840c30e8",
   "metadata": {},
   "source": [
    "### 作業"
   ]
  },
  {
   "cell_type": "code",
   "execution_count": 3,
   "id": "ac255c51",
   "metadata": {},
   "outputs": [
    {
     "name": "stdout",
     "output_type": "stream",
     "text": [
      "32.0 77.0 208.4\n"
     ]
    }
   ],
   "source": [
    "tc1,tc2,tc3 = 0,25,98\n",
    "tf1 = 9/5*tc1 + 32\n",
    "tf2 = 9/5*tc2 + 32\n",
    "tf3 = 9/5*tc3 + 32\n",
    "print(tf1,tf2,tf3)\n"
   ]
  },
  {
   "cell_type": "code",
   "execution_count": 4,
   "id": "3acf7bfb",
   "metadata": {},
   "outputs": [
    {
     "name": "stdout",
     "output_type": "stream",
     "text": [
      "Ken Ken Ken \n"
     ]
    }
   ],
   "source": [
    "msg = \"Ken \"\n",
    "msgx3 =msg*3\n",
    "print(msgx3)\n"
   ]
  },
  {
   "cell_type": "code",
   "execution_count": 1,
   "id": "a95e6a9a",
   "metadata": {},
   "outputs": [
    {
     "name": "stdout",
     "output_type": "stream",
     "text": [
      "Number:25\n",
      "31\n"
     ]
    }
   ],
   "source": [
    "str1 = \"Number:\"\n",
    "var1 = 25\n",
    "msg = str1 + str(var1)\n",
    "print(msg)\n",
    "\n",
    "str2 = \"21\"\n",
    "var2 = 10\n",
    "total = int(str2) + var2\n",
    "print(total)\n"
   ]
  },
  {
   "cell_type": "code",
   "execution_count": 2,
   "id": "776b953e",
   "metadata": {},
   "outputs": [
    {
     "name": "stdout",
     "output_type": "stream",
     "text": [
      "3 4\n",
      "4 3\n"
     ]
    }
   ],
   "source": [
    "a = 3\n",
    "b = 4\n",
    "\n",
    "print(a,b)\n",
    "\n",
    "temp = b\n",
    "b = a\n",
    "a = temp\n",
    "\n",
    "print(a,b)\n"
   ]
  },
  {
   "cell_type": "code",
   "execution_count": 3,
   "id": "e585d499",
   "metadata": {},
   "outputs": [
    {
     "name": "stdout",
     "output_type": "stream",
     "text": [
      "3 4\n",
      "4 3\n"
     ]
    }
   ],
   "source": [
    "a = 3\n",
    "b = 4\n",
    "print(a,b)\n",
    "a,b = b,a\n",
    "print(a,b)"
   ]
  },
  {
   "cell_type": "code",
   "execution_count": 4,
   "id": "db4afd6e",
   "metadata": {},
   "outputs": [
    {
     "name": "stdout",
     "output_type": "stream",
     "text": [
      "KenKenKen先生您好\n"
     ]
    }
   ],
   "source": [
    "title = \"先生\"\n",
    "lastName = \"Ken\"\n",
    "greet = \"您好\"\n",
    "msg = lastName*3+title+greet\n",
    "print(msg)\n"
   ]
  },
  {
   "cell_type": "code",
   "execution_count": 6,
   "id": "b1f14cb6",
   "metadata": {},
   "outputs": [
    {
     "name": "stdout",
     "output_type": "stream",
     "text": [
      "請輸入國文成績:90\n",
      "請輸入數學成績:70\n",
      "請輸入英文成績:60\n",
      "90\n",
      "<class 'int'>\n",
      "total: 220\n",
      "平均分: 73.33333333333333\n",
      "平均分:73.33\n",
      "平均分: 73.33\n"
     ]
    }
   ],
   "source": [
    "ch = int(input(\"請輸入國文成績:\"))\n",
    "ma = int(input(\"請輸入數學成績:\"))\n",
    "en = int(input(\"請輸入英文成績:\"))\n",
    "\n",
    "total = ch + ma + en\n",
    "\n",
    "print(ch)\n",
    "print(type(ch))\n",
    "print(\"total:\",total)\n",
    "print(\"平均分:\",total / 3)\n",
    "print(f\"平均分:{total / 3:.2f}\")\n",
    "print(\"平均分:\",round(total / 3,2) )"
   ]
  },
  {
   "cell_type": "code",
   "execution_count": 1,
   "id": "d87b347f",
   "metadata": {},
   "outputs": [
    {
     "name": "stdout",
     "output_type": "stream",
     "text": [
      "輸入攝氏溫度32\n",
      "89.60\n"
     ]
    }
   ],
   "source": [
    "c = int(input(\"輸入攝氏溫度\"))\n",
    "f = 9 / 5 *c + 32\n",
    "print(f\"{f:.2f}\")"
   ]
  },
  {
   "cell_type": "code",
   "execution_count": 2,
   "id": "c612f7c4",
   "metadata": {},
   "outputs": [
    {
     "name": "stdout",
     "output_type": "stream",
     "text": [
      "體重80\n",
      "身高cm178\n",
      "25.24933720489837\n"
     ]
    }
   ],
   "source": [
    "#BMI 計算\n",
    "# 公式為「體重 ( 公斤 ) 除以身高 ( 公尺 ) 的平方」\n",
    "\n",
    "w = float(input(\"體重\"))\n",
    "h = int(input(\"身高cm\"))\n",
    "bmi = w / (h/100)**2\n",
    "print(bmi)\n",
    "\n"
   ]
  },
  {
   "cell_type": "code",
   "execution_count": 3,
   "id": "8ddd1ae6",
   "metadata": {},
   "outputs": [
    {
     "name": "stdout",
     "output_type": "stream",
     "text": [
      "Ken今年12歲\n",
      "Ken今年12歲\n",
      "Ken今年12歲\n",
      "18.256700\n",
      "18.26\n",
      "18.26\n"
     ]
    }
   ],
   "source": [
    "name = \"Ken\"\n",
    "age = 12\n",
    "# Ken今年12歲\n",
    "print(name,\"今年\",age,\"歲\",sep=\"\")#sep輸出的間隔\n",
    "# %d 整數 %s 文字  %f 浮點數\n",
    "print(\"%s今年%d歲\"%(name,age))\n",
    "print(f\"{name}今年{age}歲\")\n",
    "\n",
    "print(\"%f\"%(18.2567))\n",
    "print(\"%.2f\"%(18.2567))\n",
    "print(f\"{18.2567:.2f}\")"
   ]
  },
  {
   "cell_type": "code",
   "execution_count": 4,
   "id": "ecc9813f",
   "metadata": {},
   "outputs": [
    {
     "name": "stdout",
     "output_type": "stream",
     "text": [
      "<class 'int'>\n",
      "<class 'float'>\n",
      "<class 'bool'>\n",
      "<class 'str'>\n"
     ]
    }
   ],
   "source": [
    "var1 = 123\n",
    "print(type(var1))\n",
    "var2 = 3.14\n",
    "print(type(var2))\n",
    "var3 = True\n",
    "print(type(var3))\n",
    "var4 = \"Hello\"\n",
    "print(type(var4))\n"
   ]
  },
  {
   "cell_type": "code",
   "execution_count": 5,
   "id": "165d9d6d",
   "metadata": {},
   "outputs": [
    {
     "name": "stdout",
     "output_type": "stream",
     "text": [
      "140713487842016\n",
      "1839020618128\n",
      "1839020433584\n",
      "140713487842016\n"
     ]
    }
   ],
   "source": [
    "x = 123\n",
    "print(id(x))\n",
    "x = 456\n",
    "print(id(x))\n",
    "x = \"Hello\"\n",
    "print(id(x))\n",
    "y = 123\n",
    "print(id(y))"
   ]
  },
  {
   "cell_type": "code",
   "execution_count": 6,
   "id": "4cdfbf1c",
   "metadata": {},
   "outputs": [
    {
     "name": "stdout",
     "output_type": "stream",
     "text": [
      "10\n",
      "<class 'int'>\n",
      "<class 'float'>\n"
     ]
    }
   ],
   "source": [
    "x = 10\n",
    "print(x)\n",
    "print(type(x))\n",
    "x = x + 5.5\n",
    "print(type(x))\n"
   ]
  },
  {
   "cell_type": "code",
   "execution_count": 7,
   "id": "624b2930",
   "metadata": {},
   "outputs": [
    {
     "name": "stdout",
     "output_type": "stream",
     "text": [
      "10.5\n",
      "<class 'float'>\n",
      "15\n",
      "<class 'int'>\n",
      "20.0\n",
      "<class 'float'>\n"
     ]
    }
   ],
   "source": [
    "x = 10.5\n",
    "print(x)\n",
    "print(type(x))\n",
    "y = int(x) + 5\n",
    "print(y)\n",
    "print(type(y))\n",
    "z = float(y) + 5\n",
    "print(z)\n",
    "print(type(z))"
   ]
  },
  {
   "cell_type": "code",
   "execution_count": 8,
   "id": "db5f2031",
   "metadata": {},
   "outputs": [
    {
     "name": "stdout",
     "output_type": "stream",
     "text": [
      "5 True\n",
      "0 False\n",
      "1.5 True\n",
      "0.0 False\n",
      "Hi True\n",
      " False\n",
      "[1, 2, 3] True\n",
      "[] False\n"
     ]
    }
   ],
   "source": [
    "x,y = 5,0\n",
    "print(x,bool(x))\n",
    "print(y,bool(y))\n",
    "\n",
    "x,y = 1.5,0.0\n",
    "\n",
    "print(x,bool(x))\n",
    "print(y,bool(y))\n",
    "\n",
    "x = \"Hi\"\n",
    "y = \"\"\n",
    "print(x,bool(x))\n",
    "print(y,bool(y))\n",
    "\n",
    "x = [1,2,3]\n",
    "y = []\n",
    "print(x,bool(x))\n",
    "print(y,bool(y))\n"
   ]
  },
  {
   "cell_type": "code",
   "execution_count": 9,
   "id": "a0419c36",
   "metadata": {},
   "outputs": [
    {
     "name": "stdout",
     "output_type": "stream",
     "text": [
      "Ken Vivin\n",
      "3 5\n",
      "Lucy\n",
      "Ben\n",
      "A\tB\n",
      "\"key\"\n",
      "\"key\"\n",
      "<a href='https://www.google.com'>google</a>\n",
      "<a href='https://www.google.com'>google</a>\n",
      "c:\n",
      "ew\temp\n",
      "c:\\new\\temp\n",
      "c:\\new\\temp\n"
     ]
    }
   ],
   "source": [
    "str1 = \"Ken\"\n",
    "str2 = 'Vivin'\n",
    "print(str1,str2)\n",
    "print(len(str1),len(str2))\n",
    "# \\n斷行 換行\n",
    "print(\"Lucy\\nBen\")\n",
    "print(\"A\\tB\")\n",
    "print(\"\\\"key\\\"\")\n",
    "print('\"key\"')\n",
    "print('<a href=\\'https://www.google.com\\'>google</a>')\n",
    "print(\"<a href='https://www.google.com'>google</a>\")\n",
    "\n",
    "path = \"c:\\new\\temp\"\n",
    "print(path)\n",
    "path = \"c:\\\\new\\\\temp\"\n",
    "print(path)\n",
    "path = r\"c:\\new\\temp\"\n",
    "print(path)\n"
   ]
  },
  {
   "cell_type": "code",
   "execution_count": 10,
   "id": "23ca15f0",
   "metadata": {},
   "outputs": [
    {
     "name": "stdout",
     "output_type": "stream",
     "text": [
      "手機開啟應用程式時，最惱人且感到無奈的就是，\n",
      "手機畫面突然被全螢幕覆蓋的廣告滿版給霸佔，往往總得等候數秒待廣告跑完，\n",
      "才能手動關閉廣告頁面，以進入應用程式的主頁面。\n",
      "隨著今年新一代Android 14 正式版系統將於秋季釋出，\n",
      "針對App 應用程式內含無預警跳出的全螢幕廣告滿版覆蓋、\n",
      "或採全螢幕覆蓋型式顯示的通知訊息等類似這樣的狀況，\n",
      "在升級到Android 14後，將能透過設定選單新增的開關按鈕，\n",
      "讓安卓手機用戶擁有自行管控應用程式內「全螢幕通知」彈出的權限了。\n"
     ]
    }
   ],
   "source": [
    "news = \"\"\"手機開啟應用程式時，最惱人且感到無奈的就是，\n",
    "手機畫面突然被全螢幕覆蓋的廣告滿版給霸佔，往往總得等候數秒待廣告跑完，\n",
    "才能手動關閉廣告頁面，以進入應用程式的主頁面。\n",
    "隨著今年新一代Android 14 正式版系統將於秋季釋出，\n",
    "針對App 應用程式內含無預警跳出的全螢幕廣告滿版覆蓋、\n",
    "或採全螢幕覆蓋型式顯示的通知訊息等類似這樣的狀況，\n",
    "在升級到Android 14後，將能透過設定選單新增的開關按鈕，\n",
    "讓安卓手機用戶擁有自行管控應用程式內「全螢幕通知」彈出的權限了。\"\"\"\n",
    "print(news)"
   ]
  },
  {
   "cell_type": "code",
   "execution_count": 11,
   "id": "765d801c",
   "metadata": {},
   "outputs": [
    {
     "name": "stdout",
     "output_type": "stream",
     "text": [
      "Hello World\n",
      "l\n",
      "r\n",
      "llo World\n",
      "Hel\n",
      "ell\n",
      "orl\n",
      "dlroW olleH\n",
      "lro\n",
      "HloWrd\n"
     ]
    }
   ],
   "source": [
    "mystring = \"Hello World\"\n",
    "print(mystring)\n",
    "print(mystring[2])\n",
    "print(mystring[-3])\n",
    "\n",
    "print(mystring[2:])\n",
    "print(mystring[:3])\n",
    "print(mystring[1:4])\n",
    "print(mystring[-4:-1])\n",
    "\n",
    "print(mystring[::-1])\n",
    "print(mystring[-2:-5:-1])\n",
    "\n",
    "print(mystring[::2])\n"
   ]
  },
  {
   "cell_type": "code",
   "execution_count": 14,
   "id": "602eea73",
   "metadata": {},
   "outputs": [
    {
     "name": "stdout",
     "output_type": "stream",
     "text": [
      "['Ken', 'Vivin']\n",
      "('Howard', 'Joy')\n",
      "['Ken', 'Iris']\n",
      "A\n",
      "E\n",
      "C\n",
      "['C', 'D', 'E']\n",
      "['A', 'B']\n",
      "['C', 'D']\n",
      "['E', 'D', 'C', 'B', 'A']\n"
     ]
    }
   ],
   "source": [
    "list2 = ['Ken',\"Vivin\"]\n",
    "tuple2 = (\"Howard\",\"Joy\")\n",
    "print(list2)\n",
    "print(tuple2)\n",
    "list2[1] = \"Iris\"\n",
    "print(list2)\n",
    "#tuple2[1] = \"Ben\"\n",
    "\n",
    "list3 = ['A','B','C','D','E']\n",
    "print(list3[0])\n",
    "print(list3[-1])\n",
    "print(list3[-3])\n",
    "\n",
    "print(list3[2:])\n",
    "print(list3[:-3])\n",
    "print(list3[2:4])\n",
    "print(list3[::-1])\n",
    "\n",
    "\n"
   ]
  },
  {
   "cell_type": "code",
   "execution_count": 12,
   "id": "9125694e",
   "metadata": {},
   "outputs": [
    {
     "name": "stdout",
     "output_type": "stream",
     "text": [
      "[60, 70, 75, 90, 100]\n",
      "[60, 70, 80, 90, 100]\n",
      "[60, 70, 90, 100]\n",
      "[60, 100]\n"
     ]
    },
    {
     "ename": "NameError",
     "evalue": "name 'scores' is not defined",
     "output_type": "error",
     "traceback": [
      "\u001b[1;31m---------------------------------------------------------------------------\u001b[0m",
      "\u001b[1;31mNameError\u001b[0m                                 Traceback (most recent call last)",
      "Cell \u001b[1;32mIn[12], line 10\u001b[0m\n\u001b[0;32m      8\u001b[0m \u001b[38;5;28mprint\u001b[39m(scores)\n\u001b[0;32m      9\u001b[0m \u001b[38;5;28;01mdel\u001b[39;00m scores \u001b[38;5;66;03m#刪除變數\u001b[39;00m\n\u001b[1;32m---> 10\u001b[0m \u001b[38;5;28mprint\u001b[39m(\u001b[43mscores\u001b[49m)\n",
      "\u001b[1;31mNameError\u001b[0m: name 'scores' is not defined"
     ]
    }
   ],
   "source": [
    "scores = [60,70,75,90,100]\n",
    "print(scores)\n",
    "scores[2] = 80\n",
    "print(scores)\n",
    "del scores[2]\n",
    "print(scores)\n",
    "del scores[1:3]\n",
    "print(scores)\n",
    "del scores #刪除變數\n",
    "print(scores)"
   ]
  },
  {
   "cell_type": "code",
   "execution_count": 13,
   "id": "dce5a24d",
   "metadata": {},
   "outputs": [
    {
     "name": "stdout",
     "output_type": "stream",
     "text": [
      "{1, 2, 3}\n"
     ]
    }
   ],
   "source": [
    "s = {1,2,2,3,1}\n",
    "print(s)#可過濾重複數值"
   ]
  },
  {
   "cell_type": "code",
   "execution_count": 15,
   "id": "b2d2dca7",
   "metadata": {},
   "outputs": [
    {
     "name": "stdout",
     "output_type": "stream",
     "text": [
      "{'Ch': 100, 'En': 80, 'Ma': 70}\n",
      "{'Ch': 100, 'En': 80, 'Ma': 75}\n",
      "{'Ch': 100, 'En': 80, 'Ma': 75, 'Sc': 83}\n"
     ]
    },
    {
     "ename": "KeyError",
     "evalue": "'So'",
     "output_type": "error",
     "traceback": [
      "\u001b[1;31m---------------------------------------------------------------------------\u001b[0m",
      "\u001b[1;31mKeyError\u001b[0m                                  Traceback (most recent call last)",
      "Cell \u001b[1;32mIn[15], line 8\u001b[0m\n\u001b[0;32m      6\u001b[0m \u001b[38;5;28mprint\u001b[39m(scores)\n\u001b[0;32m      7\u001b[0m myKey \u001b[38;5;241m=\u001b[39m \u001b[38;5;124m\"\u001b[39m\u001b[38;5;124mSo\u001b[39m\u001b[38;5;124m\"\u001b[39m\n\u001b[1;32m----> 8\u001b[0m \u001b[38;5;28mprint\u001b[39m(\u001b[43mscores\u001b[49m\u001b[43m[\u001b[49m\u001b[43mmyKey\u001b[49m\u001b[43m]\u001b[49m)\n",
      "\u001b[1;31mKeyError\u001b[0m: 'So'"
     ]
    }
   ],
   "source": [
    "scores = {\"Ch\":95,\"En\":80,\"Ma\":70,\"Ch\":100}\n",
    "print(scores)\n",
    "scores[\"Ma\"] = 75\n",
    "print(scores)\n",
    "scores[\"Sc\"] = 83\n",
    "print(scores)\n",
    "myKey = \"So\"\n",
    "print(scores[myKey])#會出錯"
   ]
  },
  {
   "cell_type": "code",
   "execution_count": null,
   "id": "37a358a5",
   "metadata": {},
   "outputs": [],
   "source": []
  }
 ],
 "metadata": {
  "kernelspec": {
   "display_name": "Python 3 (ipykernel)",
   "language": "python",
   "name": "python3"
  },
  "language_info": {
   "codemirror_mode": {
    "name": "ipython",
    "version": 3
   },
   "file_extension": ".py",
   "mimetype": "text/x-python",
   "name": "python",
   "nbconvert_exporter": "python",
   "pygments_lexer": "ipython3",
   "version": "3.8.16"
  }
 },
 "nbformat": 4,
 "nbformat_minor": 5
}
