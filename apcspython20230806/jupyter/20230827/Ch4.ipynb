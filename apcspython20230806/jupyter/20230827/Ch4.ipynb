{
 "cells": [
  {
   "cell_type": "code",
   "execution_count": 2,
   "id": "0e22f59f",
   "metadata": {},
   "outputs": [
    {
     "name": "stdout",
     "output_type": "stream",
     "text": [
      "{'Ford', 'Benz', 'Mazda', 'Audi', 'Toyota', 'BMW'}\n",
      "豪華品牌及數量: {'Audi': 1, 'Benz': 2, 'BMW': 3}\n"
     ]
    }
   ],
   "source": [
    "carList = ['Audi', 'Toyota', 'Benz', 'BMW', 'Mazda', 'Ford', 'BMW', 'Benz', 'BMW', 'Mazda']\n",
    "carSet = set(carList)\n",
    "print(carSet)\n",
    "\n",
    "LuxuryCar  = (\"Audi\", \"Benz\", \"BMW\")\n",
    "LuxuryDict = {\"Audi\":0, \"Benz\":0, \"BMW\":0}\n",
    "for car in carList :\n",
    "    if(car in LuxuryCar):\n",
    "        LuxuryDict[car] = LuxuryDict[car]+1\n",
    "print(\"豪華品牌及數量:\", LuxuryDict)"
   ]
  },
  {
   "cell_type": "code",
   "execution_count": 3,
   "id": "1663dc2b",
   "metadata": {},
   "outputs": [
    {
     "name": "stdout",
     "output_type": "stream",
     "text": [
      "2*1=2\t2*2=4\t2*3=6\t2*4=8\t2*5=10\t2*6=12\t2*7=14\t2*8=16\t2*9=18\t\n",
      "3*1=3\t3*2=6\t3*3=9\t3*4=12\t3*5=15\t3*6=18\t3*7=21\t3*8=24\t3*9=27\t\n",
      "4*1=4\t4*2=8\t4*3=12\t4*4=16\t4*5=20\t4*6=24\t4*7=28\t4*8=32\t4*9=36\t\n",
      "5*1=5\t5*2=10\t5*3=15\t5*4=20\t5*5=25\t5*6=30\t5*7=35\t5*8=40\t5*9=45\t\n",
      "6*1=6\t6*2=12\t6*3=18\t6*4=24\t6*5=30\t6*6=36\t6*7=42\t6*8=48\t6*9=54\t\n",
      "7*1=7\t7*2=14\t7*3=21\t7*4=28\t7*5=35\t7*6=42\t7*7=49\t7*8=56\t7*9=63\t\n",
      "8*1=8\t8*2=16\t8*3=24\t8*4=32\t8*5=40\t8*6=48\t8*7=56\t8*8=64\t8*9=72\t\n",
      "9*1=9\t9*2=18\t9*3=27\t9*4=36\t9*5=45\t9*6=54\t9*7=63\t9*8=72\t9*9=81\t\n"
     ]
    }
   ],
   "source": [
    "for x in range(2,10):\n",
    "    for y in range(1,10):\n",
    "        print(f\"{x}*{y}={x*y}\",end=\"\\t\")\n",
    "    print(\"\")"
   ]
  },
  {
   "cell_type": "code",
   "execution_count": 4,
   "id": "79b01bc7",
   "metadata": {},
   "outputs": [
    {
     "name": "stdout",
     "output_type": "stream",
     "text": [
      "請輸入數字2\n",
      "錯~再猜3\n",
      "錯~再猜4\n",
      "錯~再猜5\n",
      "猜對了\n"
     ]
    }
   ],
   "source": [
    "anser = 5\n",
    "guess = int(input(\"請輸入數字\"))\n",
    "\n",
    "while guess != anser:\n",
    "    guess = int(input(\"錯~再猜\"))\n",
    "print(\"猜對了\")    \n"
   ]
  },
  {
   "attachments": {
    "image.png": {
     "image/png": "[encoded data removed]"
    }
   },
   "cell_type": "markdown",
   "id": "657983f9",
   "metadata": {},
   "source": [
    "## 作業\n",
    "![image.png](attachment:image.png)"
   ]
  },
  {
   "cell_type": "code",
   "execution_count": 5,
   "id": "91e46fed",
   "metadata": {},
   "outputs": [
    {
     "name": "stdout",
     "output_type": "stream",
     "text": [
      "猜數字1\n",
      "再一次猜數字2\n",
      "再一次猜數字3\n",
      "再一次猜數字5\n",
      "猜對了!\n",
      "完成\n"
     ]
    }
   ],
   "source": [
    "count = 1\n",
    "answer = 5\n",
    "guess = int(input(\"猜數字\"))\n",
    "while count < 5:\n",
    "    if guess == answer:\n",
    "        print(\"猜對了!\")\n",
    "        break\n",
    "    count += 1\n",
    "    guess = int(input(\"再一次猜數字\"))\n",
    "print(\"完成\")\n"
   ]
  },
  {
   "cell_type": "code",
   "execution_count": 6,
   "id": "d223dc3a",
   "metadata": {},
   "outputs": [
    {
     "name": "stdout",
     "output_type": "stream",
     "text": [
      "1\n",
      "2\n",
      "3\n"
     ]
    }
   ],
   "source": [
    "for i in range(1,6):\n",
    "    if i == 4:\n",
    "        break\n",
    "    print(i)\n"
   ]
  },
  {
   "cell_type": "code",
   "execution_count": 7,
   "id": "967b4840",
   "metadata": {},
   "outputs": [
    {
     "name": "stdout",
     "output_type": "stream",
     "text": [
      "1\n",
      "2\n",
      "3\n",
      "5\n"
     ]
    }
   ],
   "source": [
    "for i in range(1,6):\n",
    "    if i == 4:\n",
    "        continue\n",
    "    print(i)"
   ]
  },
  {
   "cell_type": "code",
   "execution_count": 8,
   "id": "4f02dcec",
   "metadata": {},
   "outputs": [
    {
     "name": "stdout",
     "output_type": "stream",
     "text": [
      "投給誰:Amy\n",
      "投給誰:Lucy\n",
      "無效\n",
      "投給誰:David\n",
      "投給誰:Sean\n",
      "投給誰:Sean\n",
      "結果:\n",
      "David 1 票\n",
      "Amy 1 票\n",
      "Sean 2 票\n"
     ]
    }
   ],
   "source": [
    "results = {\"David\":0, \"Amy\":0, \"Sean\":0}\n",
    "candidates = (\"David\", \"Amy\", \"Sean\")\n",
    "for i in range(5):\n",
    "    v = input(\"投給誰:\")\n",
    "    if v not in candidates:\n",
    "        print(\"無效\")\n",
    "        continue\n",
    "    results[v] = results[v] + 1\n",
    "\n",
    "print(\"結果:\")\n",
    "for name in candidates:\n",
    "    print(name,results[name],\"票\")\n"
   ]
  },
  {
   "cell_type": "code",
   "execution_count": 13,
   "id": "f7e4eb59",
   "metadata": {},
   "outputs": [
    {
     "name": "stdout",
     "output_type": "stream",
     "text": [
      "輸入整數2\n",
      "是質數\n"
     ]
    }
   ],
   "source": [
    "num = int(input(\"輸入整數\"))\n",
    "\n",
    "isPr = True\n",
    "for i in range(2,num):\n",
    "    if num % i == 0:\n",
    "        isPr = False\n",
    "        break\n",
    "if isPr:\n",
    "    print(\"是質數\")\n",
    "else:\n",
    "    print(\"不是質數\")    "
   ]
  },
  {
   "cell_type": "code",
   "execution_count": 18,
   "id": "6dd1611b",
   "metadata": {},
   "outputs": [
    {
     "name": "stdout",
     "output_type": "stream",
     "text": [
      "請輸入數字:25\n",
      "True\n"
     ]
    }
   ],
   "source": [
    "num = int(input(\"請輸入數字:\"))\n",
    "ispr = True\n",
    "for i in range(2,num):\n",
    "    if num%i != 0:\n",
    "        break\n",
    "    else:\n",
    "        \n",
    "        ispr = False \n",
    "\n",
    "print(ispr)\n"
   ]
  },
  {
   "cell_type": "code",
   "execution_count": 31,
   "id": "0c84eece",
   "metadata": {},
   "outputs": [
    {
     "name": "stdout",
     "output_type": "stream",
     "text": [
      "請輸入數字:11\n",
      "是質數\n"
     ]
    }
   ],
   "source": [
    "num = int(input(\"請輸入數字:\"))\n",
    "n=2\n",
    "while n < num:\n",
    "    if num%n == 0:\n",
    "        print(\"不是質數\")\n",
    "        break\n",
    "    n+=1    \n",
    "else:\n",
    "     print(\"是質數\") \n"
   ]
  },
  {
   "cell_type": "code",
   "execution_count": 24,
   "id": "48ff8ec4",
   "metadata": {},
   "outputs": [
    {
     "name": "stdout",
     "output_type": "stream",
     "text": [
      "輸入整數5\n",
      "5 的因數1 5 "
     ]
    }
   ],
   "source": [
    "num = int(input(\"輸入整數\"))\n",
    "print(num,\"的因數\",end=\"\")\n",
    "for i in range(1,num+1):\n",
    "    if num % i != 0:\n",
    "        continue\n",
    "    print(i,end = \" \")"
   ]
  },
  {
   "cell_type": "code",
   "execution_count": 20,
   "id": "851b5897",
   "metadata": {},
   "outputs": [
    {
     "name": "stdout",
     "output_type": "stream",
     "text": [
      "猜數字2\n",
      "猜數字5\n",
      "猜對了\n"
     ]
    }
   ],
   "source": [
    "answer = 5\n",
    "for i in range(5):\n",
    "    guess = int(input(\"猜數字\"))\n",
    "    if guess == answer:\n",
    "        print(\"猜對了\")\n",
    "        break\n",
    "else:\n",
    "    print(\"答案是:\",answer)"
   ]
  },
  {
   "cell_type": "code",
   "execution_count": 32,
   "id": "2088d6df",
   "metadata": {},
   "outputs": [
    {
     "name": "stdout",
     "output_type": "stream",
     "text": [
      "Start\n",
      "Hello!\n",
      "End\n"
     ]
    }
   ],
   "source": [
    "def greet():\n",
    "    print(\"Hello!\")\n",
    "    \n",
    "print(\"Start\")\n",
    "greet()\n",
    "print(\"End\")\n"
   ]
  },
  {
   "cell_type": "code",
   "execution_count": 35,
   "id": "48d9e6a3",
   "metadata": {},
   "outputs": [
    {
     "name": "stdout",
     "output_type": "stream",
     "text": [
      "25\n",
      "25\n",
      "None\n",
      "<class 'NoneType'>\n"
     ]
    }
   ],
   "source": [
    "def printSum(a:int,b:int):\n",
    "    c = a + b\n",
    "    print(c)\n",
    "    return 10\n",
    "printSum(10,15)\n",
    "v = printSum(10,15)\n",
    "print(v)\n",
    "\n",
    "print(type(v))\n"
   ]
  },
  {
   "cell_type": "code",
   "execution_count": 33,
   "id": "70a3f227",
   "metadata": {},
   "outputs": [
    {
     "name": "stdout",
     "output_type": "stream",
     "text": [
      "7\n"
     ]
    }
   ],
   "source": [
    "def getSum(a,b):\n",
    "    return a + b\n",
    "v = getSum(5,2)\n",
    "print(v)\n",
    "\n"
   ]
  },
  {
   "cell_type": "code",
   "execution_count": 36,
   "id": "86cedc81",
   "metadata": {},
   "outputs": [
    {
     "name": "stdout",
     "output_type": "stream",
     "text": [
      "7\n",
      "12\n"
     ]
    }
   ],
   "source": [
    "def getSum(a,b):\n",
    "     v = a + b\n",
    "     return v\n",
    "def getSum3(a,b,c):\n",
    "    return a + b +ｃ\n",
    "v = getSum(5,2)\n",
    "print(v)\n",
    "v2 = getSum3(7,1,4)\n",
    "print(v2)\n"
   ]
  },
  {
   "cell_type": "code",
   "execution_count": 37,
   "id": "6aea33a7",
   "metadata": {},
   "outputs": [
    {
     "name": "stdout",
     "output_type": "stream",
     "text": [
      "輸入攝氏溫度(q離開):26\n",
      "攝氏: 26 華氏: 78.80000000000001\n",
      "輸入攝氏溫度(q離開):28\n",
      "攝氏: 28 華氏: 82.4\n",
      "輸入攝氏溫度(q離開):q\n",
      "離開\n"
     ]
    }
   ],
   "source": [
    "def c2f(c):\n",
    "    f = 9 / 5 * c +32\n",
    "    return f\n",
    "\n",
    "while True:\n",
    "    intStr = input(\"輸入攝氏溫度(q離開):\")\n",
    "    if intStr == 'q':\n",
    "        print(\"離開\")\n",
    "        break\n",
    "    tc = c2f(float(intStr))\n",
    "    print(\"攝氏:\",intStr,\"華氏:\",tc)"
   ]
  },
  {
   "cell_type": "code",
   "execution_count": 38,
   "id": "765b7cbd",
   "metadata": {},
   "outputs": [
    {
     "name": "stdout",
     "output_type": "stream",
     "text": [
      "8\n",
      "14\n"
     ]
    }
   ],
   "source": [
    "def getSum(a,b=3,c=5):\n",
    "    return a +b + c\n",
    "print(getSum(1,2,5))\n",
    "print(getSum(6))"
   ]
  },
  {
   "cell_type": "code",
   "execution_count": 39,
   "id": "3a7511c1",
   "metadata": {},
   "outputs": [
    {
     "name": "stdout",
     "output_type": "stream",
     "text": [
      "490\n",
      "530\n",
      "313\n"
     ]
    }
   ],
   "source": [
    "def weighted_sum(c,e = 80,m = 60):\n",
    "    return c + e * 2 + m * 3\n",
    "print(weighted_sum(100,90,70))\n",
    "print(weighted_sum(100,m = 90))\n",
    "#只要開始指定名稱參數 後面都要指名參數\n",
    "print(weighted_sum(e=70,m=51,c=20))\n"
   ]
  },
  {
   "cell_type": "code",
   "execution_count": 40,
   "id": "a2854fec",
   "metadata": {},
   "outputs": [
    {
     "name": "stdout",
     "output_type": "stream",
     "text": [
      "Amy 20\n",
      "==========\n",
      "Ken 20\n",
      "==========\n",
      "30 20\n",
      "==========\n",
      "Sean 45\n",
      "==========\n",
      "72 Lucy\n",
      "==========\n"
     ]
    }
   ],
   "source": [
    "def printInfo(name='Amy',age = 20):\n",
    "    print(name,age)\n",
    "    print(\"==========\")\n",
    "printInfo()\n",
    "printInfo(\"Ken\")\n",
    "printInfo(30)\n",
    "printInfo(\"Sean\",45)\n",
    "printInfo(age=\"Lucy\",name=72)"
   ]
  },
  {
   "cell_type": "code",
   "execution_count": 41,
   "id": "bf102aa5",
   "metadata": {},
   "outputs": [
    {
     "name": "stdout",
     "output_type": "stream",
     "text": [
      "1 2 () = 3\n",
      "1 2 (3,) = 6\n",
      "1 2 (5, 6, 7, 8) = 29\n"
     ]
    }
   ],
   "source": [
    "def f1(x,y,*z):\n",
    "    s = x+y\n",
    "    for v in z:\n",
    "        s+=v    \n",
    "    print(x,y,z,\"=\",s)\n",
    "f1(1,2)    \n",
    "f1(1,2,3)\n",
    "f1(1,2,5,6,7,8)\n"
   ]
  },
  {
   "cell_type": "code",
   "execution_count": 42,
   "id": "73a9d592",
   "metadata": {},
   "outputs": [
    {
     "name": "stdout",
     "output_type": "stream",
     "text": [
      "================\n",
      "name: Sean\n",
      "age: 40\n",
      "other: {}\n",
      "================\n",
      "name: Sean\n",
      "age: 40\n",
      "other: {'phone': '025578825'}\n",
      "phone 025578825\n",
      "================\n",
      "name: Amy\n",
      "age: 28\n",
      "other: {'email': 'amy@gmail.com', 'company': 'gj'}\n",
      "email amy@gmail.com\n",
      "company gj\n",
      "發送Email To : amy@gmail.com\n"
     ]
    }
   ],
   "source": [
    "def personInfo(name,age,**other):\n",
    "    print(\"================\")\n",
    "    print(\"name:\",name)\n",
    "    print(\"age:\",age)\n",
    "    print(\"other:\",other)\n",
    "    for k in other:\n",
    "        print(k,other[k])\n",
    "    if \"email\" in other:\n",
    "        print(\"發送Email To :\",other[\"email\"])\n",
    "personInfo(\"Sean\",40)\n",
    "personInfo(\"Sean\",40,phone='025578825')\n",
    "personInfo(\"Amy\",28,email=\"amy@gmail.com\",company=\"gj\") \n"
   ]
  },
  {
   "cell_type": "code",
   "execution_count": 43,
   "id": "11dc02ec",
   "metadata": {},
   "outputs": [
    {
     "name": "stdout",
     "output_type": "stream",
     "text": [
      "x:3,y:4,z:25\n"
     ]
    }
   ],
   "source": [
    "def calc(x,y):\n",
    "    z = x ** 2 + y**2\n",
    "    print(f\"x:{x},y:{y},z:{z}\")\n",
    "    return z\n",
    "a,b = 3,4\n",
    "c = calc(a,b)\n",
    "\n",
    "# print(f\"x:{x},y:{y},z:{z}\") #x,y,z可使用範圍只在calc函式\n",
    "\n"
   ]
  },
  {
   "cell_type": "code",
   "execution_count": 44,
   "id": "026282ca",
   "metadata": {},
   "outputs": [
    {
     "name": "stdout",
     "output_type": "stream",
     "text": [
      "外部1: 5\n",
      "f():x: 10\n",
      "f():a: 5\n",
      "外部2: 5\n"
     ]
    }
   ],
   "source": [
    "def func(x):\n",
    "    x = 10\n",
    "    print(\"f():x:\",x)\n",
    "    print(\"f():a:\",a)\n",
    "    \n",
    "a = 5\n",
    "print(\"外部1:\",a)\n",
    "func(a)\n",
    "print(\"外部2:\",a)\n"
   ]
  },
  {
   "cell_type": "code",
   "execution_count": 45,
   "id": "04e25158",
   "metadata": {},
   "outputs": [
    {
     "name": "stdout",
     "output_type": "stream",
     "text": [
      "呼叫func前: [10, 20, 30]\n",
      "呼叫func後: [10, 20, 'Hi']\n"
     ]
    }
   ],
   "source": [
    "def func(thelist):\n",
    "    thelist[2] = \"Hi\"\n",
    "\n",
    "myList = [10,20,30]\n",
    "print(\"呼叫func前:\",myList)\n",
    "func(myList)\n",
    "print(\"呼叫func後:\",myList)\n"
   ]
  },
  {
   "cell_type": "code",
   "execution_count": 46,
   "id": "43491757",
   "metadata": {},
   "outputs": [
    {
     "name": "stdout",
     "output_type": "stream",
     "text": [
      "呼叫前func(): 5\n",
      "func():a= 10\n",
      "呼叫後func(): 5\n"
     ]
    }
   ],
   "source": [
    "a = 5\n",
    "def func():\n",
    "    a = 10\n",
    "    print(\"func():a=\",a)\n",
    "\n",
    "print(\"呼叫前func():\",a)    \n",
    "func()\n",
    "print(\"呼叫後func():\",a)\n"
   ]
  },
  {
   "cell_type": "code",
   "execution_count": 47,
   "id": "6271ee6f",
   "metadata": {},
   "outputs": [
    {
     "name": "stdout",
     "output_type": "stream",
     "text": [
      "呼叫前func(): 5\n",
      "func():a= 6\n",
      "func2():a= 8\n",
      "呼叫後func(): 8\n"
     ]
    }
   ],
   "source": [
    "a = 5\n",
    "def func():\n",
    "    global a\n",
    "    a = a + 1\n",
    "    print(\"func():a=\",a)\n",
    "def func2():\n",
    "    global a\n",
    "    a = a + 2\n",
    "    print(\"func2():a=\",a)\n",
    "    \n",
    "print(\"呼叫前func():\",a)    \n",
    "func()\n",
    "func2()\n",
    "print(\"呼叫後func():\",a)\n"
   ]
  },
  {
   "cell_type": "code",
   "execution_count": 48,
   "id": "317a22d2",
   "metadata": {},
   "outputs": [
    {
     "name": "stdout",
     "output_type": "stream",
     "text": [
      "25\n"
     ]
    }
   ],
   "source": [
    "sq = lambda x : x**2\n",
    "print(sq(5))\n"
   ]
  },
  {
   "cell_type": "code",
   "execution_count": 49,
   "id": "0742d31d",
   "metadata": {},
   "outputs": [
    {
     "name": "stdout",
     "output_type": "stream",
     "text": [
      "<map object at 0x000002A24EFA6040>\n",
      "[1, 4, 9, 16, 25]\n"
     ]
    }
   ],
   "source": [
    "list1 =[1,2,3,4,5]\n",
    "list2 = map(lambda x : x ** 2,list1)\n",
    "print(list2)\n",
    "print(list(list2))"
   ]
  },
  {
   "cell_type": "code",
   "execution_count": 56,
   "id": "ce540c71",
   "metadata": {},
   "outputs": [
    {
     "name": "stdout",
     "output_type": "stream",
     "text": [
      "請輸入數字用空白隔開1 2 3 4 5\n",
      "['1', '2', '3', '4', '5']\n",
      "<class 'str'>\n",
      "<class 'int'>\n",
      "[1, 2, 3, 4, 5]\n"
     ]
    }
   ],
   "source": [
    "v = input(\"請輸入數字用空白隔開\")\n",
    "vList = v.split(\" \")\n",
    "print(vList)\n",
    "print(type(vList[0]))\n",
    "vList = list(map(int,vList))\n",
    "print(type(vList[0]))\n",
    "print(vList)"
   ]
  },
  {
   "cell_type": "code",
   "execution_count": null,
   "id": "ddfb0849",
   "metadata": {},
   "outputs": [],
   "source": []
  }
 ],
 "metadata": {
  "kernelspec": {
   "display_name": "Python 3 (ipykernel)",
   "language": "python",
   "name": "python3"
  },
  "language_info": {
   "codemirror_mode": {
    "name": "ipython",
    "version": 3
   },
   "file_extension": ".py",
   "mimetype": "text/x-python",
   "name": "python",
   "nbconvert_exporter": "python",
   "pygments_lexer": "ipython3",
   "version": "3.8.16"
  }
 },
 "nbformat": 4,
 "nbformat_minor": 5
}
