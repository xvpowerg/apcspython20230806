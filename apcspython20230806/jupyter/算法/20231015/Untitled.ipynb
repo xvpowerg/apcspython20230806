{
 "cells": [
  {
   "cell_type": "code",
   "execution_count": 1,
   "id": "b71a4c51",
   "metadata": {},
   "outputs": [
    {
     "name": "stdout",
     "output_type": "stream",
     "text": [
      "輸入數值:8\n",
      "輸入基數:2\n",
      "8以2為底的對數為:3.000000\n"
     ]
    }
   ],
   "source": [
    "'''\n",
    "十分逼近法練習：log\n",
    "'''\n",
    "def myLog(a,b,pre=6):\n",
    "    step = 1\n",
    "    ans=step\n",
    "    while(step >= 10**-pre):\n",
    "        while (b ** ans < a):\n",
    "            ans += step\n",
    "            if(b ** ans == a):\n",
    "              return ans\n",
    "        ans -= step\n",
    "        step/=10\n",
    "    return ans\n",
    "\n",
    "a = int(input('輸入數值:'))\n",
    "b = int(input('輸入基數:'))\n",
    "print(f\"{a}以{b}為底的對數為:{myLog(a,b):.6f}\")      \n"
   ]
  },
  {
   "cell_type": "code",
   "execution_count": 2,
   "id": "44075000",
   "metadata": {},
   "outputs": [
    {
     "name": "stdout",
     "output_type": "stream",
     "text": [
      "(20,14)(14,6)(6,2)(2,0)2\n"
     ]
    },
    {
     "data": {
      "text/plain": [
       "'\\ngcd_r(20,14) 20,14\\ngcd_r(14,6) 14,6\\ngcd_r(6,2) 6,2\\ngcd_r(2,0) 2,0\\n'"
      ]
     },
     "execution_count": 2,
     "metadata": {},
     "output_type": "execute_result"
    }
   ],
   "source": [
    "def gcd_r(m,n):\n",
    "    print(f\"({m},{n})\",end=\"\")\n",
    "    if n == 0:\n",
    "        return m\n",
    "    else:\n",
    "        return gcd_r(n,m%n)\n",
    "n1 = 20\n",
    "n2 = 14\n",
    "\n",
    "print(gcd_r(n1,n2))\n",
    "\n",
    "\"\"\"\n",
    "gcd_r(20,14) 20,14\n",
    "gcd_r(14,6) 14,6\n",
    "gcd_r(6,2) 6,2\n",
    "gcd_r(2,0) 2,0\n",
    "\"\"\"\n"
   ]
  },
  {
   "cell_type": "code",
   "execution_count": 3,
   "id": "717fb2bf",
   "metadata": {},
   "outputs": [
    {
     "name": "stdout",
     "output_type": "stream",
     "text": [
      "8\n"
     ]
    }
   ],
   "source": [
    "def fi_r(n):\n",
    "    if n == 0:\n",
    "        return 0\n",
    "    elif n==1 or n==2:\n",
    "        return 1\n",
    "    return fi_r(n-1) + fi_r(n-2)\n",
    "\n",
    "print(fi_r(6))\n",
    "    \n"
   ]
  },
  {
   "cell_type": "code",
   "execution_count": 4,
   "id": "b1ff5ca6",
   "metadata": {},
   "outputs": [
    {
     "name": "stdout",
     "output_type": "stream",
     "text": [
      "[1, 2, 3, 4]\n",
      "[1, 2, 4, 3]\n",
      "[1, 3, 2, 4]\n",
      "[1, 3, 4, 2]\n",
      "[1, 4, 2, 3]\n",
      "[1, 4, 3, 2]\n",
      "[2, 1, 3, 4]\n",
      "[2, 1, 4, 3]\n",
      "[2, 3, 1, 4]\n",
      "[2, 3, 4, 1]\n",
      "[2, 4, 1, 3]\n",
      "[2, 4, 3, 1]\n",
      "[3, 1, 2, 4]\n",
      "[3, 1, 4, 2]\n",
      "[3, 2, 1, 4]\n",
      "[3, 2, 4, 1]\n",
      "[3, 4, 1, 2]\n",
      "[3, 4, 2, 1]\n",
      "[4, 1, 2, 3]\n",
      "[4, 1, 3, 2]\n",
      "[4, 2, 1, 3]\n",
      "[4, 2, 3, 1]\n",
      "[4, 3, 1, 2]\n",
      "[4, 3, 2, 1]\n"
     ]
    }
   ],
   "source": [
    "def permute(s):\n",
    "    out = []\n",
    "    if len(s) == 1:\n",
    "        return [s]\n",
    "    else:\n",
    "        for i in range(len(s)):            \n",
    "            for perm in permute(s[:i]+s[i+1:]):\n",
    "                ls = [s[i]]\n",
    "                ls.extend(perm)\n",
    "                out.append(ls)\n",
    "    return out\n",
    "myList = permute([1,2,3,4])\n",
    "for l in myList:\n",
    "    print(l)"
   ]
  },
  {
   "cell_type": "code",
   "execution_count": 5,
   "id": "e300593d",
   "metadata": {},
   "outputs": [
    {
     "name": "stdout",
     "output_type": "stream",
     "text": [
      "[1, 2, 3, 4]\n",
      "[1, 2, 3, 5]\n",
      "[1, 2, 3, 6]\n",
      "[1, 2, 4, 5]\n",
      "[1, 2, 4, 6]\n",
      "[1, 2, 5, 6]\n",
      "[1, 3, 4, 5]\n",
      "[1, 3, 4, 6]\n",
      "[1, 3, 5, 6]\n",
      "[1, 4, 5, 6]\n",
      "[2, 3, 4, 5]\n",
      "[2, 3, 4, 6]\n",
      "[2, 3, 5, 6]\n",
      "[2, 4, 5, 6]\n",
      "[3, 4, 5, 6]\n"
     ]
    }
   ],
   "source": [
    "def combine(lst, n):\n",
    "    #print(f\"tag {tag} list:{lst} n:{n} for:{len(lst)-n}\")\n",
    "    out = []\n",
    "    #當 m== n 或 n =1 時返回\n",
    "    if len(lst)==n:#元素個數等於取值數量\n",
    "        return [lst]\n",
    "    elif n==1:#取值數量為1時傳回單一元素組成集合\n",
    "        return [[x] for x in lst]\n",
    "    else:        \n",
    "        for i in range(len(lst)-n):#目前list數量減去取值數量\n",
    "            for c1 in combine(lst[i+1:], n-1):#這是i索引屬值在裡面的狀況 C(n - 1, m - 1)\n",
    "                ls = [lst[i]]#i索引屬值在裡面\n",
    "                ls.extend(c1)\n",
    "                if ls not in out:#排除重複部分\n",
    "                    out.append(ls)\n",
    "               \n",
    "            for c2 in combine(lst[i+1:], n):#這是i索引屬值不在裡面的狀況 C(n - 1, m) \n",
    "                ls = []#i索引屬值不在裡面\n",
    "                ls.extend(c2)\n",
    "                if ls not in out:#排除重複部分\n",
    "                    out.append(ls)                \n",
    "    return out\n",
    "myList = combine([1,2,3,4,5,6], 4)\n",
    "for l in myList:\n",
    "    print(l)\n"
   ]
  },
  {
   "cell_type": "code",
   "execution_count": 6,
   "id": "a73b7e11",
   "metadata": {},
   "outputs": [
    {
     "name": "stdout",
     "output_type": "stream",
     "text": [
      "請輸入套環數量：3\n",
      "1套環從 A 移到 C\n",
      "2套環從 A 移到 B\n",
      "1套環從 C 移到 B\n",
      "3套環從 A 移到 C\n",
      "1套環從 B 移到 A\n",
      "2套環從 B 移到 C\n",
      "1套環從 A 移到 C\n"
     ]
    }
   ],
   "source": [
    "#p1 來源\n",
    "#p2 中繼\n",
    "#p3 目標\n",
    "def hanoi(n, p1, p2, p3):\n",
    "    if n==1: # 遞迴出口\n",
    "        print(f'{n}套環從 {p1} 移到 {p3}' )\n",
    "    else:\n",
    "        hanoi(n-1, p1, p3, p2)#來源P1 P3改為中繼 P2改為目標  來源不變\n",
    "        print(f'{n}套環從 {p1} 移到 {p3}' )\n",
    "        #print('%d套環從 %s 移到 %s' %(n, p1, p3))#n-1完成後把最大的放到目標柱\n",
    "        hanoi(n-1, p2, p1, p3)#中繼(P2)來源改為 來源改為P1中繼為 目標是P3\n",
    "\n",
    "i=int(input('請輸入套環數量：'))\n",
    "hanoi(i,'A', 'B', 'C')\n"
   ]
  },
  {
   "cell_type": "code",
   "execution_count": 7,
   "id": "334084f6",
   "metadata": {},
   "outputs": [
    {
     "name": "stdout",
     "output_type": "stream",
     "text": [
      "氣泡排序法：原始資料為：\n",
      " 16 25 39 63 27 12  8 45\n",
      "  8 12 16 25 27 39 45 63\n"
     ]
    }
   ],
   "source": [
    "def showdata(data_list):\n",
    "    for i in range(len(data_list)):\n",
    "        print('%3d' %data_list[i],end='')\n",
    "    print()\n",
    "\n",
    "data=[16,25,39,63,27,12,8,45]\t                # 原始資料 \n",
    "print('氣泡排序法：原始資料為：')\n",
    "showdata(data)\n",
    "n = len(data)\n",
    "\n",
    "for i in range(1,n):\n",
    "  for j in range(n-i):\n",
    "     if data[j] > data[j + 1]:\n",
    "        data[j],data[j + 1] = data[j + 1],data[j]\n",
    "showdata(data)      \n"
   ]
  },
  {
   "cell_type": "code",
   "execution_count": 8,
   "id": "69487447",
   "metadata": {},
   "outputs": [
    {
     "name": "stdout",
     "output_type": "stream",
     "text": [
      "選擇排序法:原始資料為：\n",
      " 16 25 39 63 27 12  8 45\n",
      "  8 12 16 25 27 39 45 63\n"
     ]
    }
   ],
   "source": [
    "def showdata(data_list):\n",
    "    for i in range(len(data_list)):\n",
    "        print('%3d' %data_list[i],end='')\n",
    "    print()\n",
    "\n",
    "data=[16,25,39,63,27,12,8,45]\n",
    "print('選擇排序法:原始資料為：')\n",
    "showdata(data)\n",
    "\n",
    "n = len(data)\n",
    "for i in range(n-1):\n",
    "    minIdx = i\n",
    "    for j in range(i+1,n):\n",
    "        if data[j] < data[minIdx]:\n",
    "            minIdx = j\n",
    "    data[i],data[minIdx] = data[minIdx],data[i]    \n",
    "showdata(data)\n"
   ]
  },
  {
   "cell_type": "code",
   "execution_count": 9,
   "id": "b4b0d09e",
   "metadata": {},
   "outputs": [
    {
     "name": "stdout",
     "output_type": "stream",
     "text": [
      "插入排序法：原始資料為：\n",
      " 16 25 39 63 27 12  8 45\n",
      "  8 12 16 25 27 39 45 63\n"
     ]
    }
   ],
   "source": [
    "def showdata(data_list):\n",
    "    for i in range(len(data_list)):\n",
    "        print('%3d' %data_list[i],end='')\n",
    "    print()\n",
    "\n",
    "data=[16,25,39,63,27,12,8,45]\n",
    "print('插入排序法：原始資料為：')\n",
    "showdata(data)\n",
    "\n",
    "n = len(data)\n",
    "for i in range(1,n):\n",
    "    tmp = data[i]\n",
    "    for j in range(i):\n",
    "        if data[j] > tmp:\n",
    "           data.insert(j,tmp)\n",
    "           del data[i+1]\n",
    "           break\n",
    "        \n",
    "showdata(data)\n"
   ]
  },
  {
   "cell_type": "code",
   "execution_count": 10,
   "id": "849b0704",
   "metadata": {},
   "outputs": [
    {
     "name": "stdout",
     "output_type": "stream",
     "text": [
      "(1-100)，-1離開：70\n",
      "######不存在######\n",
      "(1-100)，-1離開：88\n",
      "######不存在######\n",
      "(1-100)，-1離開：90\n",
      "找到的index:14\n",
      "(1-100)，-1離開：-1\n",
      "資料內容：\n",
      " 1[ 18]   2[ 12]   3[ 55]   4[ 52]   5[ 33]  \n",
      " 6[ 34]   7[ 61]   8[  4]   9[ 60]  10[  6]  \n",
      "11[ 73]  12[ 10]  13[ 36]  14[ 90]  15[ 17]  \n",
      "16[ 94]  17[ 28]  18[ 38]  19[ 78]  20[ 20]  \n",
      "21[ 87]  22[ 62]  23[ 32]  24[  8]  25[ 24]  \n",
      "26[ 48]  27[ 31]  28[ 43]  29[ 47]  30[  2]  \n",
      "31[ 91]  32[ 84]  33[ 75]  34[ 50]  35[ 81]  \n",
      "36[ 25]  37[ 95]  38[ 83]  39[ 41]  40[ 74]  \n",
      "41[ 56]  42[ 27]  43[ 23]  44[ 89]  45[ 53]  \n",
      "46[ 86]  47[  1]  48[ 57]  49[ 21]  50[ 92]  \n"
     ]
    }
   ],
   "source": [
    "import random\n",
    "\n",
    "def showData(data_list):\n",
    "    for i in range(len(data)//5):\n",
    "        for j in range(5):\n",
    "            print('%2d[%3d]  ' %(i*5+j+1,data[i*5+j]),end='')\n",
    "        print()\n",
    "\n",
    "val=0\n",
    "data=[]\n",
    "while(len(data)<50):\n",
    "    randNum = random.randint(1,100)\n",
    "    if(randNum not in data):\n",
    "        data.append(randNum)\n",
    "\n",
    "while True:\n",
    "    val=int(input('(1-100)，-1離開：'))\n",
    "    if val == -1:\n",
    "        break\n",
    "    for i in range(50):\n",
    "        if data[i]==val:\n",
    "            print(f'找到的index:{i + 1}')\n",
    "            break\n",
    "    else:\n",
    "        print('######不存在######')\n",
    "\n",
    "print('資料內容：')\n",
    "showData(data)\n"
   ]
  },
  {
   "cell_type": "code",
   "execution_count": 11,
   "id": "dd99490f",
   "metadata": {},
   "outputs": [
    {
     "name": "stdout",
     "output_type": "stream",
     "text": [
      "資料內容：\n",
      " 1[  2]   2[  4]   3[  5]   4[  7]   5[ 10]  \n",
      " 6[ 12]   7[ 13]   8[ 14]   9[ 15]  10[ 16]  \n",
      "11[ 19]  12[ 21]  13[ 22]  14[ 24]  15[ 25]  \n",
      "16[ 26]  17[ 27]  18[ 28]  19[ 29]  20[ 31]  \n",
      "21[ 35]  22[ 37]  23[ 38]  24[ 43]  25[ 44]  \n",
      "26[ 47]  27[ 48]  28[ 50]  29[ 51]  30[ 56]  \n",
      "31[ 57]  32[ 61]  33[ 64]  34[ 65]  35[ 66]  \n",
      "36[ 68]  37[ 72]  38[ 75]  39[ 77]  40[ 79]  \n",
      "41[ 80]  42[ 82]  43[ 85]  44[ 86]  45[ 90]  \n",
      "46[ 92]  47[ 94]  48[ 96]  49[ 97]  50[100]  \n",
      "請輸入查詢數值-1離開:10\n",
      "5\n",
      "請輸入查詢數值-1離開:20\n",
      "-1\n",
      "請輸入查詢數值-1離開:-1\n"
     ]
    }
   ],
   "source": [
    "import random\n",
    "\n",
    "def showData(data_list):\n",
    "    for i in range(len(data)//5):\n",
    "        for j in range(5):\n",
    "            print('%2d[%3d]  ' %(i*5+j+1,data[i*5+j]),end='')\n",
    "        print()\n",
    "data=[]\n",
    "while(len(data)<50):\n",
    "    randNum = random.randint(1,100)\n",
    "    if(randNum not in data):\n",
    "        data.append(randNum)\n",
    "\n",
    "data.sort()\n",
    "print('資料內容：')\n",
    "showData(data)\n",
    "def def_search(data,val):\n",
    "    low,high  = 0,len(data) - 1\n",
    "    mid = -1\n",
    "    while not low > high:\n",
    "        mid = (low+high)//2\n",
    "        if val < data[mid]:\n",
    "            high = mid - 1\n",
    "        elif val > data[mid]:\n",
    "            low = mid + 1\n",
    "        else:\n",
    "            return mid\n",
    "    return -1\n",
    "\n",
    "while True:\n",
    "  val = int(input(\"請輸入查詢數值-1離開:\"))\n",
    "  if val == -1:\n",
    "      break\n",
    "  idx = def_search(data,val)  \n",
    "  print( idx+1 if idx >= 0 else idx)\n",
    "\n",
    "\n",
    "            \n"
   ]
  },
  {
   "cell_type": "code",
   "execution_count": null,
   "id": "f5103f31",
   "metadata": {},
   "outputs": [],
   "source": []
  }
 ],
 "metadata": {
  "kernelspec": {
   "display_name": "Python 3 (ipykernel)",
   "language": "python",
   "name": "python3"
  },
  "language_info": {
   "codemirror_mode": {
    "name": "ipython",
    "version": 3
   },
   "file_extension": ".py",
   "mimetype": "text/x-python",
   "name": "python",
   "nbconvert_exporter": "python",
   "pygments_lexer": "ipython3",
   "version": "3.11.4"
  }
 },
 "nbformat": 4,
 "nbformat_minor": 5
}
