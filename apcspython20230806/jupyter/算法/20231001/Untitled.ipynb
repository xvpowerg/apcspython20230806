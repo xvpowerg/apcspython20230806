{
 "cells": [
  {
   "cell_type": "code",
   "execution_count": 1,
   "id": "1d50bdc2",
   "metadata": {},
   "outputs": [
    {
     "name": "stdout",
     "output_type": "stream",
     "text": [
      "2*4+4*7+6*10+8*13+10*16 =\n",
      "=> 360\n",
      "=> 360\n"
     ]
    }
   ],
   "source": [
    "sum1 = 0\n",
    "for i in range(1, 6):\n",
    "    sum1 += 2*i*(3*i+1)\n",
    "print('2*4+4*7+6*10+8*13+10*16 =')\n",
    "print(\"=>\", sum1)\n",
    "\n",
    "def simgaSum(n):\n",
    "    if n==1:\n",
    "        return 2*n*(3*n+1)\n",
    "    else:\n",
    "        return simgaSum(n-1) + 2*n*(3*n+1)\n",
    "\n",
    "print(\"=>\", simgaSum(5))\n"
   ]
  },
  {
   "cell_type": "code",
   "execution_count": 2,
   "id": "2c862c1a",
   "metadata": {},
   "outputs": [
    {
     "name": "stdout",
     "output_type": "stream",
     "text": [
      "座號\t國文\t英文\t數學\t平均\t不及格\n",
      "1\t50\t60\t70\t60.0\t1\t\n",
      "2\t30\t40\t50\t40.0\t3\t\n",
      "3\t70\t80\t90\t80.0\t0\t\n",
      "4\t66\t77\t88\t77.0\t0\t\n",
      "5\t22\t33\t44\t33.0\t3\t\n",
      "平均\t47.6\t58.0\t68.4\t\n",
      "不及格\t3\t2\t2\t\n"
     ]
    }
   ],
   "source": [
    "scores = [[50,60,70,0,0],\n",
    "          [30,40,50,0,0],\n",
    "          [70,80,90,0,0],\n",
    "          [66,77,88,0,0],\n",
    "          [22,33,44,0,0]]\n",
    "\n",
    "for i in range(len(scores)):\n",
    "    sSum = 0\n",
    "    for j in range(3):\n",
    "        sSum += scores[i][j]\n",
    "        if(scores[i][j]<60):\n",
    "           scores[i][4]+=1 #不及格數\n",
    "    scores[i][3] = sSum/3#平均數\n",
    "#print(scores)\n",
    "\n",
    "subjs = [[0]*3 for i in range(2)]#2x3陣列\n",
    "for x in range(3):\n",
    "    subjSum = 0\n",
    "    for y in range(5):\n",
    "        subjSum += scores[y][x]\n",
    "        if(scores[y][x]<60):\n",
    "           subjs[1][x] += 1 #不及格人數\n",
    "    subjs[0][x] = subjSum/5 #平均數\n",
    "#print(subjs)\n",
    "\n",
    "print('座號\\t國文\\t英文\\t數學\\t平均\\t不及格')\n",
    "for i in range(len(scores)):\n",
    "    print(i+1, end='\\t')\n",
    "    for j in range(5):\n",
    "        print(scores[i][j], end='\\t')\n",
    "    print()\n",
    "print('平均', end='\\t')\n",
    "for x in range(3):\n",
    "    print('%4.1f'%subjs[0][x], end='\\t')\n",
    "print()\n",
    "print('不及格', end='\\t')\n",
    "for y in range(3):\n",
    "    print(subjs[1][y], end='\\t')\n",
    "print()"
   ]
  },
  {
   "cell_type": "code",
   "execution_count": 3,
   "id": "e37bbedf",
   "metadata": {},
   "outputs": [
    {
     "name": "stdout",
     "output_type": "stream",
     "text": [
      "3\n"
     ]
    }
   ],
   "source": [
    "x = 2\n",
    "fx = 0\n",
    "ploy1 = [3,2,2,-3,1,1,0]\n",
    "for j in range(ploy1[0]):\n",
    "   fx +=  ploy1[2*j+1]*x**ploy1[2*(j+1)]\n",
    "print(fx)\n"
   ]
  },
  {
   "cell_type": "code",
   "execution_count": 4,
   "id": "237e9424",
   "metadata": {},
   "outputs": [
    {
     "name": "stdout",
     "output_type": "stream",
     "text": [
      "2 5 10 \n",
      "5 8 13 \n"
     ]
    }
   ],
   "source": [
    "def printMatrix(matrix):\n",
    "    for i in range(len(matrix)):\n",
    "        for j in range(len(matrix[i])):\n",
    "            print(matrix[i][j], end=' ')\n",
    "        print()\n",
    "\n",
    "matrixA = []\n",
    "for i in range(2):\n",
    "    row = []\n",
    "    for j in range(3):\n",
    "        row.append((i+1)**2+(j+1)**2)\n",
    "    matrixA.append(row)\n",
    "\n",
    "printMatrix(matrixA)\n"
   ]
  },
  {
   "cell_type": "code",
   "execution_count": 5,
   "id": "0816cea8",
   "metadata": {},
   "outputs": [
    {
     "name": "stdout",
     "output_type": "stream",
     "text": [
      "10 11 12 \n",
      "13 14 15 \n",
      "16 17 18 \n"
     ]
    }
   ],
   "source": [
    "def printMatrix(matrix):\n",
    "    for i in range(len(matrix)):\n",
    "        for j in range(len(matrix[i])):\n",
    "            print(matrix[i][j], end=' ')\n",
    "        print()\n",
    "\n",
    "def matrixAdd(A,B):\n",
    "    n = len(A)\n",
    "    m = len(A[0])\n",
    "    C = [[None]*m for r in range(n)]\n",
    "    for i in range(n):\n",
    "        for k in range(m):\n",
    "            C[i][k] = A[i][k] + B[i][k]\n",
    "    return C\n",
    "\n",
    "matrixA = [[1,3,5], [7,9,11], [13,15,17]]\n",
    "matrixB = [[9,8,7], [6,5,4], [3,2,1]]\n",
    "\n",
    "C =  matrixAdd(matrixA,matrixB)\n",
    "printMatrix(C)\n"
   ]
  },
  {
   "cell_type": "code",
   "execution_count": 6,
   "id": "45bfdec7",
   "metadata": {},
   "outputs": [
    {
     "name": "stdout",
     "output_type": "stream",
     "text": [
      "MatrixA:\n",
      "6 3 5 \n",
      "8 9 7 \n",
      "MatrixB:\n",
      "5 10 \n",
      "14 7 \n",
      "6 8 \n",
      "MatrixA * MatrixB:\n",
      "102 121 \n",
      "208 199 \n"
     ]
    }
   ],
   "source": [
    "def printMatrix(matrix):\n",
    "    for i in range(len(matrix)):\n",
    "        for j in range(len(matrix[i])):\n",
    "            print(matrix[i][j], end=' ')\n",
    "        print()\n",
    "def matrixMutiply(A,B):\n",
    "    m = len(A)#ar\n",
    "    n = len(A[0])#ac\n",
    "    nb = len(B)#b row\n",
    "    p = len(B[0])#b colum\n",
    "    if n != nb:\n",
    "        print(\"錯誤\")\n",
    "        return \n",
    "    C = [[None] * p for row in range(m)]\n",
    "    for i in range(m):\n",
    "        for j in range(p):\n",
    "            tmp = 0\n",
    "            for k in range(n):\n",
    "                tmp += A[i][k] * B[k][j]  \n",
    "            C[i][j] = tmp\n",
    "    return C\n",
    "\n",
    "matrixA = [[6,3,5], [8,9,7]]\n",
    "matrixB = [[5,10], [14,7], [6,8]]\n",
    "matrixC = matrixMutiply(matrixA,matrixB)\n",
    "\n",
    "print(\"MatrixA:\")\n",
    "printMatrix(matrixA)\n",
    "print(\"MatrixB:\")\n",
    "printMatrix(matrixB)\n",
    "print(\"MatrixA * MatrixB:\")\n",
    "printMatrix(matrixC)\n"
   ]
  },
  {
   "cell_type": "code",
   "execution_count": 7,
   "id": "45c96f5e",
   "metadata": {},
   "outputs": [
    {
     "name": "stdout",
     "output_type": "stream",
     "text": [
      "3 6 \n",
      "2 5 \n",
      "1 4 \n",
      "==============\n",
      "1 4 \n",
      "2 5 \n",
      "3 6 \n"
     ]
    }
   ],
   "source": [
    "def printMatrix(matrix):\n",
    "    for i in range(len(matrix)):\n",
    "        for j in range(len(matrix[i])):\n",
    "            print(matrix[i][j], end=' ')\n",
    "        print()\n",
    "\n",
    "def flipMatrix(matrixA):\n",
    "    matrixB = []\n",
    "    r = len(matrixA)\n",
    "    for i in range(r-1,-1,-1):\n",
    "        matrixB.append(matrixA[i])\n",
    "    return matrixB\n",
    "        \n",
    "m1 = [[3,6],\n",
    "      [2,5],\n",
    "      [1,4]]\n",
    "printMatrix(m1)\n",
    "print(\"==============\")\n",
    "m2 = flipMatrix(m1)\n",
    "printMatrix(m2)\n",
    "\n",
    "\n",
    "\n",
    "\n"
   ]
  },
  {
   "attachments": {
    "image.png": {
     "image/png": "[encoded data removed]"
    }
   },
   "cell_type": "markdown",
   "id": "ab9bf7c7",
   "metadata": {},
   "source": [
    "![image.png](attachment:image.png)"
   ]
  },
  {
   "cell_type": "code",
   "execution_count": 8,
   "id": "fa0a4ea9",
   "metadata": {},
   "outputs": [
    {
     "name": "stdout",
     "output_type": "stream",
     "text": [
      "5\n",
      "15\n",
      "25\n"
     ]
    }
   ],
   "source": [
    "class Node():\n",
    "    def __init__(self,data = None):\n",
    "            self.data = data \n",
    "            self.next = None\n",
    "        \n",
    "n1 = Node(5)\n",
    "n2 = Node(15)\n",
    "n3 = Node(25)\n",
    "lsp = n1\n",
    "n1.next = n2\n",
    "n2.next = n3\n",
    "\n",
    "while lsp:\n",
    "    print(lsp.data)\n",
    "    lsp = lsp.next\n",
    "\n"
   ]
  },
  {
   "cell_type": "code",
   "execution_count": 9,
   "id": "80c9c32e",
   "metadata": {},
   "outputs": [
    {
     "name": "stdout",
     "output_type": "stream",
     "text": [
      "5\n",
      "15\n",
      "25\n"
     ]
    }
   ],
   "source": [
    "class Node():\n",
    "    def __init__(self,data = None):\n",
    "            self.data = data \n",
    "            self.next = None\n",
    "            \n",
    "class LinkedList():\n",
    "    def __init__(self):\n",
    "        self.head = None\n",
    "    def print_list(self):\n",
    "        ptr = self.head\n",
    "        while ptr:\n",
    "            print(ptr.data)\n",
    "            ptr = ptr.next\n",
    "            \n",
    "link = LinkedList()\n",
    "n1 = Node(5)\n",
    "n2 = Node(15)\n",
    "n3 = Node(25)\n",
    "link.head = n1\n",
    "link.head.next = n2\n",
    "n2.next = n3\n",
    "\n",
    "link.print_list()"
   ]
  },
  {
   "cell_type": "code",
   "execution_count": 10,
   "id": "463bb2a0",
   "metadata": {},
   "outputs": [
    {
     "name": "stdout",
     "output_type": "stream",
     "text": [
      "5\n",
      "15\n",
      "25\n"
     ]
    }
   ],
   "source": [
    "class Node():\n",
    "    def __init__(self,data = None):\n",
    "            self.data = data \n",
    "            self.next = None\n",
    "            \n",
    "class LinkedList():\n",
    "    def __init__(self):\n",
    "        self.head = None\n",
    "    def print_list(self):\n",
    "        ptr = self.head\n",
    "        while ptr:\n",
    "            print(ptr.data)\n",
    "            ptr = ptr.next\n",
    "            \n",
    "    def add(self,item):\n",
    "        newNode = Node(item)\n",
    "        if self.head == None:\n",
    "            self.head = newNode\n",
    "            return\n",
    "        ptr = self.head\n",
    "        while ptr.next:\n",
    "            ptr = ptr.next\n",
    "        ptr.next = newNode\n",
    "\n",
    "myList = LinkedList()\n",
    "myList.add(5)\n",
    "myList.add(15)\n",
    "myList.add(25)\n",
    "myList.print_list()\n"
   ]
  },
  {
   "cell_type": "code",
   "execution_count": 11,
   "id": "6d31e7e3",
   "metadata": {},
   "outputs": [
    {
     "name": "stdout",
     "output_type": "stream",
     "text": [
      "62\n",
      "59\n",
      "83\n",
      "51\n",
      "45\n",
      "索引0:62\n",
      "索引1:59\n",
      "索引2:83\n",
      "索引3:51\n",
      "索引4:45\n"
     ]
    }
   ],
   "source": [
    "class Node():\n",
    "    def __init__(self,data = None):\n",
    "            self.data = data \n",
    "            self.next = None\n",
    "            \n",
    "class LinkedList():\n",
    "    def __init__(self):\n",
    "        self.head = None\n",
    "    def print_list(self):\n",
    "        ptr = self.head\n",
    "        while ptr:\n",
    "            print(ptr.data)\n",
    "            ptr = ptr.next\n",
    "            \n",
    "    def add(self,item):\n",
    "        newNode = Node(item)\n",
    "        if self.head == None:\n",
    "            self.head = newNode\n",
    "            return\n",
    "        ptr = self.head\n",
    "        while ptr.next:\n",
    "            ptr = ptr.next\n",
    "        ptr.next = newNode\n",
    "    def getNode(self,index):\n",
    "         ptr = self.head\n",
    "         for i in range(index):\n",
    "             ptr = ptr.next    \n",
    "             if ptr == None:\n",
    "                 break\n",
    "         return ptr         \n",
    "         \n",
    "import random\n",
    "link = LinkedList()\n",
    "for i in range(5):\n",
    "    link.add(random.randint(1,100))\n",
    "\n",
    "link.print_list()                   \n",
    "#i = random.randint(0,4)\n",
    "for i in range(5):\n",
    "    print('索引%d:%d' %(i, \n",
    "      link.getNode(i).data))\n"
   ]
  },
  {
   "cell_type": "code",
   "execution_count": 12,
   "id": "355afea3",
   "metadata": {},
   "outputs": [
    {
     "name": "stdout",
     "output_type": "stream",
     "text": [
      "28\n",
      "17\n",
      "2\n",
      "80\n",
      "90\n",
      "===========\n",
      "28\n",
      "20\n",
      "17\n",
      "2\n",
      "80\n",
      "90\n",
      "===========\n"
     ]
    }
   ],
   "source": [
    "class Node():\n",
    "    def __init__(self,data = None):\n",
    "            self.data = data \n",
    "            self.next = None\n",
    "            \n",
    "class LinkedList():\n",
    "    def __init__(self):\n",
    "        self.head = None\n",
    "    def print_list(self):\n",
    "        ptr = self.head\n",
    "        while ptr:\n",
    "            print(ptr.data)\n",
    "            ptr = ptr.next\n",
    "        print(\"===========\")     \n",
    "    def add(self,item):\n",
    "        newNode = Node(item)\n",
    "        if self.head == None:\n",
    "            self.head = newNode\n",
    "            return\n",
    "        ptr = self.head\n",
    "        while ptr.next:\n",
    "            ptr = ptr.next\n",
    "        ptr.next = newNode\n",
    "    def getNode(self,index):\n",
    "         ptr = self.head\n",
    "         for i in range(index):\n",
    "             ptr = ptr.next    \n",
    "             if ptr == None:\n",
    "                 break\n",
    "         return ptr\n",
    "    def insert(self,index,item):\n",
    "        newNode = Node(item)\n",
    "        if index == 0:\n",
    "           newNode.next = self.head\n",
    "           self.head = newNode\n",
    "        else:\n",
    "           preNode = self.getNode(index - 1)\n",
    "           newNode.next = preNode.next\n",
    "           preNode.next = newNode\n",
    "\n",
    "import random\n",
    "link = LinkedList()\n",
    "for i in range(5):\n",
    "    link.add(random.randint(1,100))\n",
    "link.print_list()\n",
    "link.insert(1,20)\n",
    "link.print_list()\n",
    "\n"
   ]
  },
  {
   "cell_type": "code",
   "execution_count": null,
   "id": "44cba4e2",
   "metadata": {},
   "outputs": [],
   "source": []
  }
 ],
 "metadata": {
  "kernelspec": {
   "display_name": "Python 3 (ipykernel)",
   "language": "python",
   "name": "python3"
  },
  "language_info": {
   "codemirror_mode": {
    "name": "ipython",
    "version": 3
   },
   "file_extension": ".py",
   "mimetype": "text/x-python",
   "name": "python",
   "nbconvert_exporter": "python",
   "pygments_lexer": "ipython3",
   "version": "3.11.4"
  }
 },
 "nbformat": 4,
 "nbformat_minor": 5
}
