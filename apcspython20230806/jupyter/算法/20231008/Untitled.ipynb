{
 "cells": [
  {
   "cell_type": "code",
   "execution_count": 1,
   "id": "c30f7926",
   "metadata": {},
   "outputs": [
    {
     "name": "stdout",
     "output_type": "stream",
     "text": [
      "3 6 \n",
      "2 5 \n",
      "1 4 \n",
      "旋轉後...\n",
      "1 2 3 \n",
      "4 5 6 \n"
     ]
    }
   ],
   "source": [
    "def rotate(matrixA):\n",
    "    matrixB = []\n",
    "    r = len(matrixA)\n",
    "    c = len(matrixA[0])\n",
    "    for i in range(c):\n",
    "        row = []\n",
    "        for j in range(r-1, -1, -1):\n",
    "            row.append(matrixA[j][i]) #colum不變 row由最後一筆開始往上\n",
    "        matrixB.append(row)\n",
    "    return matrixB\n",
    "\n",
    "def printMatrix(matrix):\n",
    "    for i in range(len(matrix)):\n",
    "        for j in range(len(matrix[i])):\n",
    "            print(matrix[i][j], end=' ')\n",
    "        print()\n",
    "\n",
    "m1 = [[3,6],[2,5],[1,4]]\n",
    "m2 = rotate(m1)\n",
    "printMatrix(m1)\n",
    "print('旋轉後...')\n",
    "printMatrix(m2)"
   ]
  },
  {
   "cell_type": "code",
   "execution_count": 2,
   "id": "5a4ce301",
   "metadata": {},
   "outputs": [
    {
     "name": "stdout",
     "output_type": "stream",
     "text": [
      "['Apple', 'Banana', 'Cherry']\n",
      "==================\n",
      "Cherry\n",
      "Banana\n",
      "Apple\n"
     ]
    }
   ],
   "source": [
    "fruits = []\n",
    "fruits.append(\"Apple\")\n",
    "fruits.append(\"Banana\")\n",
    "fruits.append(\"Cherry\")\n",
    "print(fruits)\n",
    "print(\"==================\")\n",
    "print(fruits.pop())\n",
    "print(fruits.pop())\n",
    "print(fruits.pop())"
   ]
  },
  {
   "cell_type": "code",
   "execution_count": 3,
   "id": "23f7cde5",
   "metadata": {},
   "outputs": [
    {
     "name": "stdout",
     "output_type": "stream",
     "text": [
      "Mango\n",
      "Cherry\n",
      "Banana\n",
      "Apple\n"
     ]
    }
   ],
   "source": [
    "class Stack():\n",
    "    def __init__(self):\n",
    "        self.my_stack = []\n",
    "    def my_push(self,data):\n",
    "        self.my_stack.append(data)\n",
    "    def my_pop(self):     \n",
    "       return self.my_stack.pop()\n",
    "    def size(self):\n",
    "       return  len(self.my_stack)\n",
    "    def isEmpty(self):\n",
    "       return self.my_stack == []\n",
    "\n",
    "\n",
    "stack = Stack()\n",
    "stack.my_push(\"Apple\")\n",
    "stack.my_push(\"Banana\")\n",
    "stack.my_push(\"Cherry\")\n",
    "stack.my_push(\"Mango\")\n",
    "#print(stack.my_pop())\n",
    "while not stack.isEmpty():\n",
    "    print(stack.my_pop())\n"
   ]
  },
  {
   "cell_type": "code",
   "execution_count": 4,
   "id": "d6388390",
   "metadata": {},
   "outputs": [
    {
     "name": "stdout",
     "output_type": "stream",
     "text": [
      "C\n",
      "B\n",
      "A\n",
      "空\n",
      "None\n"
     ]
    }
   ],
   "source": [
    "class Stack():\n",
    "    def __init__(self,capacity):\n",
    "        self.my_stack = [None]*capacity\n",
    "        self.top = -1\n",
    "        self.capacity = capacity\n",
    "\n",
    "    def push(self,data):\n",
    "        if self.isFull():\n",
    "            print(\"滿\")\n",
    "        else:\n",
    "            self.top += 1\n",
    "            self.my_stack[self.top] = data\n",
    "    def pop(self):\n",
    "        if self.isEmpty():\n",
    "            print(\"空\")\n",
    "        else:\n",
    "           data = self.my_stack[self.top]\n",
    "           self.my_stack[self.top] = None\n",
    "           self.top -= 1\n",
    "           return data\n",
    "        \n",
    "    def isEmpty(self):\n",
    "        if self.top == -1:\n",
    "            return True\n",
    "        else:\n",
    "            return False\n",
    "        \n",
    "    def isFull(self):\n",
    "        if self.top >= self.capacity - 1:\n",
    "            return True\n",
    "        else:\n",
    "            return False\n",
    "\n",
    "   \n",
    "stack = Stack(3)\n",
    "stack.push(\"A\")\n",
    "stack.push(\"B\")\n",
    "stack.push(\"C\")\n",
    "\n",
    "print(stack.pop())\n",
    "print(stack.pop())\n",
    "print(stack.pop())\n",
    "print(stack.pop())\n",
    "#stack.push(\"D\")\n",
    "\n",
    "\n"
   ]
  },
  {
   "cell_type": "code",
   "execution_count": 5,
   "id": "ae5257d0",
   "metadata": {},
   "outputs": [
    {
     "name": "stdout",
     "output_type": "stream",
     "text": [
      "A\n",
      "B\n",
      "C\n"
     ]
    }
   ],
   "source": [
    "class Queue():\n",
    "    def __init__(self):\n",
    "        self.my_queue = []\n",
    "    def enqueue(self,data):\n",
    "        self.my_queue.append(data)\n",
    "    def dequeue(self):    \n",
    "       return self.my_queue.pop(0)\n",
    "    def isEmpty(self):     \n",
    "       return self.my_queue == []\n",
    "\n",
    "queue = Queue()\n",
    "\n",
    "queue.enqueue(\"A\")\n",
    "queue.enqueue(\"B\")\n",
    "queue.enqueue(\"C\")\n",
    "\n",
    "print(queue.dequeue())\n",
    "print(queue.dequeue())\n",
    "print(queue.dequeue())"
   ]
  },
  {
   "cell_type": "code",
   "execution_count": 6,
   "id": "10936a85",
   "metadata": {},
   "outputs": [
    {
     "name": "stdout",
     "output_type": "stream",
     "text": [
      "1: 1 2 3 4\n",
      "2: 1 2 4 3\n",
      "3: 1 3 2 4\n",
      "4: 1 3 4 2\n",
      "5: 1 4 2 3\n",
      "6: 1 4 3 2\n",
      "7: 2 1 3 4\n",
      "8: 2 1 4 3\n",
      "9: 2 3 1 4\n",
      "10: 2 3 4 1\n",
      "11: 2 4 1 3\n",
      "12: 2 4 3 1\n",
      "13: 3 1 2 4\n",
      "14: 3 1 4 2\n",
      "15: 3 2 1 4\n",
      "16: 3 2 4 1\n",
      "17: 3 4 1 2\n",
      "18: 3 4 2 1\n",
      "19: 4 1 2 3\n",
      "20: 4 1 3 2\n",
      "21: 4 2 1 3\n",
      "22: 4 2 3 1\n",
      "23: 4 3 1 2\n",
      "24: 4 3 2 1\n"
     ]
    }
   ],
   "source": [
    "count = 0\n",
    "\n",
    "for i in range(1,5):\n",
    "    for j in range(1,5):\n",
    "        for k in range(1,5):\n",
    "            for m in range(1,5):\n",
    "                if i != j and i!=k and k!=j and j!= m and k != m and i != m:\n",
    "                    count += 1\n",
    "                    print(f\"{count}: {i} {j} {k} {m}\")\n",
    "                \n"
   ]
  },
  {
   "cell_type": "code",
   "execution_count": 7,
   "id": "aba3ae6f",
   "metadata": {},
   "outputs": [
    {
     "name": "stdout",
     "output_type": "stream",
     "text": [
      "1: 1 2 3 4\n",
      "2: 1 2 4 3\n",
      "3: 1 3 2 4\n",
      "4: 1 3 4 2\n",
      "5: 1 4 2 3\n",
      "6: 1 4 3 2\n",
      "7: 2 1 3 4\n",
      "8: 2 1 4 3\n",
      "9: 2 3 1 4\n",
      "10: 2 3 4 1\n",
      "11: 2 4 1 3\n",
      "12: 2 4 3 1\n",
      "13: 3 1 2 4\n",
      "14: 3 1 4 2\n",
      "15: 3 2 1 4\n",
      "16: 3 2 4 1\n",
      "17: 3 4 1 2\n",
      "18: 3 4 2 1\n",
      "19: 4 1 2 3\n",
      "20: 4 1 3 2\n",
      "21: 4 2 1 3\n",
      "22: 4 2 3 1\n",
      "23: 4 3 1 2\n",
      "24: 4 3 2 1\n"
     ]
    }
   ],
   "source": [
    "count = 0\n",
    "\n",
    "for i in range(1,5):\n",
    "    for j in range(1,5):\n",
    "        if i == j:\n",
    "            continue\n",
    "        for k in range(1,5):\n",
    "            if k == j or k == i:\n",
    "                continue\n",
    "            for m in range(1,5):\n",
    "                if m== i or m == j or m == k:\n",
    "                    continue\n",
    "                count += 1\n",
    "                print(f\"{count}: {i} {j} {k} {m}\")\n"
   ]
  },
  {
   "cell_type": "code",
   "execution_count": 8,
   "id": "bcdd2039",
   "metadata": {},
   "outputs": [
    {
     "name": "stdout",
     "output_type": "stream",
     "text": [
      "1:1 2 3 4\n",
      "2:1 2 3 5\n",
      "3:1 2 3 6\n",
      "4:1 2 4 5\n",
      "5:1 2 4 6\n",
      "6:1 2 5 6\n",
      "7:1 3 4 5\n",
      "8:1 3 4 6\n",
      "9:1 3 5 6\n",
      "10:1 4 5 6\n",
      "11:2 3 4 5\n",
      "12:2 3 4 6\n",
      "13:2 3 5 6\n",
      "14:2 4 5 6\n",
      "15:3 4 5 6\n"
     ]
    }
   ],
   "source": [
    "count = 0\n",
    "for i in range(1,7):\n",
    "    for j in range(1,7):\n",
    "        for k in range(1,7):\n",
    "            for l in range(1,7):\n",
    "                if i < j and j < k and k < l:\n",
    "                    count+=1\n",
    "                    print(f\"{count}:{i} {j} {k} {l}\")"
   ]
  },
  {
   "cell_type": "code",
   "execution_count": 9,
   "id": "802cacf6",
   "metadata": {},
   "outputs": [
    {
     "name": "stdout",
     "output_type": "stream",
     "text": [
      "1:1 2 3 4\n",
      "2:1 2 3 5\n",
      "3:1 2 3 6\n",
      "4:1 2 4 5\n",
      "5:1 2 4 6\n",
      "6:1 2 5 6\n",
      "7:1 3 4 5\n",
      "8:1 3 4 6\n",
      "9:1 3 5 6\n",
      "10:1 4 5 6\n",
      "11:2 3 4 5\n",
      "12:2 3 4 6\n",
      "13:2 3 5 6\n",
      "14:2 4 5 6\n",
      "15:3 4 5 6\n"
     ]
    }
   ],
   "source": [
    "count = 0\n",
    "for i in range(1,7):\n",
    "    for j in range(1,7):\n",
    "        if j <= i:\n",
    "            continue\n",
    "        for k in range(1,7):\n",
    "            if k <= j:\n",
    "                continue\n",
    "            for l in range(1,7):\n",
    "                if l <= k :\n",
    "                  continue\n",
    "                count+=1\n",
    "                print(f\"{count}:{i} {j} {k} {l}\")\n"
   ]
  },
  {
   "cell_type": "code",
   "execution_count": 10,
   "id": "788415ea",
   "metadata": {},
   "outputs": [
    {
     "name": "stdout",
     "output_type": "stream",
     "text": [
      "(1, 2, 3, 4)\n",
      "(1, 2, 4, 3)\n",
      "(1, 3, 2, 4)\n",
      "(1, 3, 4, 2)\n",
      "(1, 4, 2, 3)\n",
      "(1, 4, 3, 2)\n",
      "(2, 1, 3, 4)\n",
      "(2, 1, 4, 3)\n",
      "(2, 3, 1, 4)\n",
      "(2, 3, 4, 1)\n",
      "(2, 4, 1, 3)\n",
      "(2, 4, 3, 1)\n",
      "(3, 1, 2, 4)\n",
      "(3, 1, 4, 2)\n",
      "(3, 2, 1, 4)\n",
      "(3, 2, 4, 1)\n",
      "(3, 4, 1, 2)\n",
      "(3, 4, 2, 1)\n",
      "(4, 1, 2, 3)\n",
      "(4, 1, 3, 2)\n",
      "(4, 2, 1, 3)\n",
      "(4, 2, 3, 1)\n",
      "(4, 3, 1, 2)\n",
      "(4, 3, 2, 1)\n"
     ]
    }
   ],
   "source": [
    "'''\n",
    "permutations 套件練習 排列\n",
    "'''\n",
    "from itertools import permutations\n",
    "perm = permutations([1,2,3,4])\n",
    "for i in list(perm):\n",
    "    print(i)"
   ]
  },
  {
   "cell_type": "code",
   "execution_count": 11,
   "id": "2e2d8a57",
   "metadata": {},
   "outputs": [
    {
     "name": "stdout",
     "output_type": "stream",
     "text": [
      "(1, 2, 3)\n",
      "(1, 2, 4)\n",
      "(1, 2, 5)\n",
      "(1, 2, 6)\n",
      "(1, 3, 4)\n",
      "(1, 3, 5)\n",
      "(1, 3, 6)\n",
      "(1, 4, 5)\n",
      "(1, 4, 6)\n",
      "(1, 5, 6)\n",
      "(2, 3, 4)\n",
      "(2, 3, 5)\n",
      "(2, 3, 6)\n",
      "(2, 4, 5)\n",
      "(2, 4, 6)\n",
      "(2, 5, 6)\n",
      "(3, 4, 5)\n",
      "(3, 4, 6)\n",
      "(3, 5, 6)\n",
      "(4, 5, 6)\n"
     ]
    }
   ],
   "source": [
    "'''\n",
    "Combinations 組合\n",
    "'''\n",
    "from itertools import combinations\n",
    "comb = combinations([1,2,3,4,5,6],3)\n",
    "for i in list(comb):\n",
    "    print(i)"
   ]
  },
  {
   "cell_type": "code",
   "execution_count": 13,
   "id": "3bde91b6",
   "metadata": {},
   "outputs": [
    {
     "name": "stdout",
     "output_type": "stream",
     "text": [
      "2\n",
      "3\n",
      "5\n",
      "7\n",
      "11\n",
      "13\n",
      "17\n",
      "19\n",
      "23\n",
      "29\n",
      "31\n",
      "37\n"
     ]
    },
    {
     "data": {
      "text/plain": [
       "'\\nprint(is_prime(5))\\nprint(is_prime(19))\\nprint(is_prime(25))\\n'"
      ]
     },
     "execution_count": 13,
     "metadata": {},
     "output_type": "execute_result"
    }
   ],
   "source": [
    "#是否為質數\n",
    "def is_prime(number):\n",
    "    for i in range(2,number):\n",
    "        if number % i == 0:\n",
    "            return False\n",
    "    return True\n",
    "\n",
    "n = 37\n",
    "for i in range(2,n+1):\n",
    "    if is_prime(i):\n",
    "        print(i)\n",
    "\"\"\"\n",
    "print(is_prime(5))\n",
    "print(is_prime(19))\n",
    "print(is_prime(25))\n",
    "\"\"\"\n"
   ]
  },
  {
   "cell_type": "code",
   "execution_count": 14,
   "id": "d7844bb1",
   "metadata": {},
   "outputs": [
    {
     "name": "stdout",
     "output_type": "stream",
     "text": [
      "2\n",
      "3\n",
      "5\n",
      "7\n",
      "11\n",
      "13\n",
      "17\n",
      "19\n",
      "23\n",
      "29\n",
      "31\n",
      "37\n"
     ]
    }
   ],
   "source": [
    "import math\n",
    "#是否為質數\n",
    "def is_prime(number):\n",
    "    for i in range(2,int(math.sqrt(number) + 1)):\n",
    "        if number % i == 0:\n",
    "            return False\n",
    "    return True\n",
    "\n",
    "n = 37\n",
    "for i in range(2,n+1):\n",
    "    if is_prime(i):\n",
    "        print(i)"
   ]
  },
  {
   "cell_type": "code",
   "execution_count": 17,
   "id": "9568b6e8",
   "metadata": {},
   "outputs": [
    {
     "name": "stdout",
     "output_type": "stream",
     "text": [
      "輸入一個整數72\n",
      "72=2*2*2*3*3\n",
      "輸入一個整數-1\n"
     ]
    }
   ],
   "source": [
    "while True:\n",
    "    n = int(input(\"輸入一個整數\"))\n",
    "    if n == -1:\n",
    "        break;\n",
    "    print(f\"{n}=\",end=\"\")\n",
    "    while n > 1:\n",
    "        for i in range(2,n+1):\n",
    "            if n % i == 0:\n",
    "                n = int(n/i)\n",
    "                if n == 1:\n",
    "                    print(f\"{i}\")\n",
    "                else:\n",
    "                    print(f\"{i}*\",end=\"\")\n",
    "                break     \n",
    "    "
   ]
  },
  {
   "cell_type": "code",
   "execution_count": 16,
   "id": "af944d5c",
   "metadata": {},
   "outputs": [
    {
     "name": "stdout",
     "output_type": "stream",
     "text": [
      "2\n",
      "1.41\n"
     ]
    }
   ],
   "source": [
    "def s_root1(x):\n",
    "    i = 1\n",
    "    while i*i < x:\n",
    "        i += 1\n",
    "        if i * i == x:\n",
    "           return i \n",
    "    return i - 1\n",
    "\n",
    "def s_root2(x,pre=2):\n",
    "    step = 1\n",
    "    r = step\n",
    "    while step >= 10**-pre:\n",
    "        while(r * r < x ):\n",
    "            r += step\n",
    "            if r * r == x:\n",
    "                return r\n",
    "        r -= step\n",
    "        step /= 10\n",
    "    return r\n",
    "\n",
    "print(s_root1(4))\n",
    "print(f\"{s_root2(2):.2f}\")"
   ]
  },
  {
   "attachments": {
    "image.png": {
     "image/png": "[encoded data removed]"
    }
   },
   "cell_type": "markdown",
   "id": "40fd391d",
   "metadata": {},
   "source": [
    "![image.png](attachment:image.png)"
   ]
  },
  {
   "cell_type": "code",
   "execution_count": 18,
   "id": "e3674cd7",
   "metadata": {},
   "outputs": [
    {
     "name": "stdout",
     "output_type": "stream",
     "text": [
      "輸入下限1\n",
      "輸入上限30\n",
      "3 4 5\n",
      "5 12 13\n",
      "6 8 10\n",
      "7 24 25\n",
      "8 15 17\n",
      "9 12 15\n",
      "10 24 26\n",
      "12 16 20\n",
      "15 20 25\n",
      "18 24 30\n",
      "20 21 29\n"
     ]
    }
   ],
   "source": [
    "minVal = int(input(\"輸入下限\"))\n",
    "maxVal = int(input(\"輸入上限\")) + 1\n",
    "for i in range(minVal,maxVal):\n",
    "    for j in range(i,maxVal):\n",
    "        for k in range(j,maxVal):\n",
    "          if i**2 + j**2 == k**2:\n",
    "              print(f\"{i} {j} {k}\")"
   ]
  },
  {
   "cell_type": "code",
   "execution_count": null,
   "id": "c7864a3f",
   "metadata": {},
   "outputs": [],
   "source": []
  }
 ],
 "metadata": {
  "kernelspec": {
   "display_name": "Python 3 (ipykernel)",
   "language": "python",
   "name": "python3"
  },
  "language_info": {
   "codemirror_mode": {
    "name": "ipython",
    "version": 3
   },
   "file_extension": ".py",
   "mimetype": "text/x-python",
   "name": "python",
   "nbconvert_exporter": "python",
   "pygments_lexer": "ipython3",
   "version": "3.11.4"
  }
 },
 "nbformat": 4,
 "nbformat_minor": 5
}
